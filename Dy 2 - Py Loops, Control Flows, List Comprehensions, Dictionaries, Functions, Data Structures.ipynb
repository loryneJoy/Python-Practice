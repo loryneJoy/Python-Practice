{
 "cells": [
  {
   "cell_type": "code",
   "execution_count": null,
   "id": "e791ea9a",
   "metadata": {},
   "outputs": [],
   "source": []
  },
  {
   "cell_type": "markdown",
   "id": "a6e02d04",
   "metadata": {},
   "source": [
    "#### LOOPS\n",
    "- Include: for loop, and while loop\n",
    "- for loop iterates every given element in a given data structure"
   ]
  },
  {
   "cell_type": "code",
   "execution_count": 4,
   "id": "7bf88435",
   "metadata": {},
   "outputs": [
    {
     "name": "stdout",
     "output_type": "stream",
     "text": [
      "12345678910"
     ]
    }
   ],
   "source": [
    "for i in range (1,11):\n",
    "    print (i, end = \"\") # arranges horizontally"
   ]
  },
  {
   "cell_type": "code",
   "execution_count": 5,
   "id": "f939ab48",
   "metadata": {},
   "outputs": [
    {
     "name": "stdout",
     "output_type": "stream",
     "text": [
      "mangoes\n",
      "apples\n",
      "bananas\n",
      "raspberries\n",
      "kiwi\n"
     ]
    }
   ],
   "source": [
    "fruits = [\"mangoes\", \"apples\", \"bananas\", \"raspberries\", \"kiwi\"] # lists use the [] brackets\n",
    "for fruit in fruits:\n",
    "    print (fruit)"
   ]
  },
  {
   "cell_type": "markdown",
   "id": "a3548a8f",
   "metadata": {},
   "source": [
    "- while loop only runs when you have a given condition\n",
    "- they are infinite in nature when a condition is met\n",
    "- Q. iterate values upto 5"
   ]
  },
  {
   "cell_type": "code",
   "execution_count": 6,
   "id": "3f82f009",
   "metadata": {},
   "outputs": [
    {
     "name": "stdout",
     "output_type": "stream",
     "text": [
      "counting: 1\n",
      "counting: 2\n",
      "counting: 3\n",
      "counting: 4\n",
      "counting: 5\n"
     ]
    }
   ],
   "source": [
    "count = 1\n",
    "while count <= 5:\n",
    "    print (\"counting:\", count)\n",
    "    count += 1 # increment value, with this loop, it doesn't run infinitely"
   ]
  },
  {
   "cell_type": "markdown",
   "id": "f63b8bfd",
   "metadata": {},
   "source": [
    "#### More control flows\n",
    "1. Break\n",
    "- iterates till it stops based on condition set\n",
    "2. Continue\n",
    "- iterates and skips the condition set\n",
    "3. Pass\n",
    "- does nothing, it's a placeholder in a loop"
   ]
  },
  {
   "cell_type": "code",
   "execution_count": 7,
   "id": "158177ba",
   "metadata": {},
   "outputs": [
    {
     "name": "stdout",
     "output_type": "stream",
     "text": [
      "0\n",
      "1\n",
      "2\n",
      "3\n",
      "4\n",
      "5\n"
     ]
    }
   ],
   "source": [
    "numbers = range (11)\n",
    "for number in numbers:\n",
    "    print (number)\n",
    "    if number == 5:\n",
    "        break"
   ]
  },
  {
   "cell_type": "code",
   "execution_count": 8,
   "id": "d661a73f",
   "metadata": {},
   "outputs": [
    {
     "name": "stdout",
     "output_type": "stream",
     "text": [
      "0\n",
      "1\n",
      "2\n",
      "3\n",
      "4\n",
      "6\n",
      "7\n",
      "8\n",
      "9\n",
      "10\n"
     ]
    }
   ],
   "source": [
    "numbers = range (11)\n",
    "for number in numbers:\n",
    "    if number == 5:\n",
    "        continue\n",
    "    print (number)"
   ]
  },
  {
   "cell_type": "code",
   "execution_count": 9,
   "id": "060ed7ff",
   "metadata": {},
   "outputs": [
    {
     "name": "stdout",
     "output_type": "stream",
     "text": [
      "0\n",
      "1\n",
      "2\n",
      "3\n",
      "4\n",
      "5\n",
      "6\n",
      "7\n",
      "8\n",
      "9\n",
      "10\n"
     ]
    }
   ],
   "source": [
    "numbers = range (11)\n",
    "for number in numbers:\n",
    "    if number == 5:\n",
    "        pass\n",
    "    print (number)"
   ]
  },
  {
   "cell_type": "code",
   "execution_count": 10,
   "id": "37c77602",
   "metadata": {},
   "outputs": [
    {
     "name": "stdout",
     "output_type": "stream",
     "text": [
      "0\n",
      "1\n",
      "2\n",
      "3\n",
      "4\n",
      "5\n",
      "6\n",
      "7\n",
      "8\n",
      "9\n",
      "10\n"
     ]
    }
   ],
   "source": [
    "numbers = range (11)\n",
    "for number in numbers:\n",
    "    print (number)"
   ]
  },
  {
   "cell_type": "markdown",
   "id": "587ec104",
   "metadata": {},
   "source": [
    "#### LIST COMPREHENSIONS\n",
    "- It's a shortcut for creating a list using loop"
   ]
  },
  {
   "cell_type": "code",
   "execution_count": 11,
   "id": "e22d4c91",
   "metadata": {},
   "outputs": [
    {
     "name": "stdout",
     "output_type": "stream",
     "text": [
      "[0, 1, 4, 9, 16, 25, 36, 49, 64, 81, 100]\n"
     ]
    }
   ],
   "source": [
    "squares = [number **2 for number in numbers]\n",
    "print (squares)"
   ]
  },
  {
   "cell_type": "code",
   "execution_count": 12,
   "id": "773abb21",
   "metadata": {},
   "outputs": [
    {
     "name": "stdout",
     "output_type": "stream",
     "text": [
      "[0, 1, 8, 27, 64, 125, 216, 343, 512, 729, 1000]\n"
     ]
    }
   ],
   "source": [
    "cubes = [number **3 for number in numbers]\n",
    "print (cubes)"
   ]
  },
  {
   "cell_type": "code",
   "execution_count": 13,
   "id": "a5800363",
   "metadata": {},
   "outputs": [
    {
     "name": "stdout",
     "output_type": "stream",
     "text": [
      "[2, 4, 6, 8, 10]\n"
     ]
    }
   ],
   "source": [
    "numbers = range(1, 11)\n",
    "even = [number for number in numbers if number % 2 == 0]\n",
    "print (even)"
   ]
  },
  {
   "cell_type": "code",
   "execution_count": 14,
   "id": "2b9b6114",
   "metadata": {},
   "outputs": [
    {
     "name": "stdout",
     "output_type": "stream",
     "text": [
      "[1, 3, 5, 7, 9]\n"
     ]
    }
   ],
   "source": [
    "odd = [ number for number in numbers if number % 2 != 0]\n",
    "print (odd)"
   ]
  },
  {
   "cell_type": "markdown",
   "id": "fb05678f",
   "metadata": {},
   "source": [
    "#### READING ASSIGNMENT: DICTIONARY COMPREHENSIONS"
   ]
  },
  {
   "cell_type": "markdown",
   "id": "c3c4da0a",
   "metadata": {},
   "source": [
    "#### FUNCTIONS IN PYTHON\n",
    "- allows you to group code into reusable blocks\n",
    "- Denoted by the key word def\n",
    "1. "
   ]
  },
  {
   "cell_type": "code",
   "execution_count": 16,
   "id": "926add51",
   "metadata": {},
   "outputs": [
    {
     "name": "stdout",
     "output_type": "stream",
     "text": [
      "30\n"
     ]
    }
   ],
   "source": [
    "def add (x, y):\n",
    "    return x + y\n",
    "add_1 = add (20, 10)\n",
    "print (add_1)"
   ]
  },
  {
   "cell_type": "code",
   "execution_count": 17,
   "id": "90f51589",
   "metadata": {},
   "outputs": [
    {
     "name": "stdout",
     "output_type": "stream",
     "text": [
      "1290.5\n"
     ]
    }
   ],
   "source": [
    "add_2 = add (1000, 290.5)\n",
    "print (add_2)"
   ]
  },
  {
   "cell_type": "code",
   "execution_count": 22,
   "id": "8effd973",
   "metadata": {},
   "outputs": [
    {
     "name": "stdout",
     "output_type": "stream",
     "text": [
      "Hello Wyc\n"
     ]
    }
   ],
   "source": [
    "def greet (name):\n",
    "    return f\"Hello {name}\"\n",
    "greet_1 = greet (\"Wyc\")\n",
    "print (greet_1)"
   ]
  },
  {
   "cell_type": "code",
   "execution_count": 25,
   "id": "f3a3e5f2",
   "metadata": {},
   "outputs": [
    {
     "data": {
      "text/plain": [
       "'Hello Josiah'"
      ]
     },
     "execution_count": 25,
     "metadata": {},
     "output_type": "execute_result"
    }
   ],
   "source": [
    "greet (\"Josiah\")"
   ]
  },
  {
   "cell_type": "code",
   "execution_count": 20,
   "id": "bb643f89",
   "metadata": {},
   "outputs": [
    {
     "name": "stdout",
     "output_type": "stream",
     "text": [
      "Hello Loryne\n"
     ]
    }
   ],
   "source": [
    "greet_2 = greet (\"Loryne\")\n",
    "print (greet_2)"
   ]
  },
  {
   "cell_type": "markdown",
   "id": "0e52d66f",
   "metadata": {},
   "source": [
    "#### Lambda function\n",
    "-it's a one line function\n",
    "- use in light weight datasets & code"
   ]
  },
  {
   "cell_type": "code",
   "execution_count": 24,
   "id": "8ea06839",
   "metadata": {},
   "outputs": [
    {
     "data": {
      "text/plain": [
       "'Hello Josiah!'"
      ]
     },
     "execution_count": 24,
     "metadata": {},
     "output_type": "execute_result"
    }
   ],
   "source": [
    "greetings = lambda name: f\"Hello {name}!\"\n",
    "greetings (\"Josiah\")"
   ]
  },
  {
   "cell_type": "code",
   "execution_count": 23,
   "id": "b0b9cc31",
   "metadata": {},
   "outputs": [
    {
     "data": {
      "text/plain": [
       "31"
      ]
     },
     "execution_count": 23,
     "metadata": {},
     "output_type": "execute_result"
    }
   ],
   "source": [
    "addition = lambda a, b: a + b\n",
    "addition (12, 19)"
   ]
  },
  {
   "cell_type": "markdown",
   "id": "52c80e01",
   "metadata": {},
   "source": [
    "#### CLASS ASSIGNMENT"
   ]
  },
  {
   "cell_type": "code",
   "execution_count": null,
   "id": "87248e3c",
   "metadata": {},
   "outputs": [
    {
     "name": "stdout",
     "output_type": "stream",
     "text": [
      "You are 26 years old\n"
     ]
    }
   ],
   "source": [
    "# Ask the user for their birth year. Calculate and print their age.\n",
    "year = int(input(\"What year were you born?\"))\n",
    "age = 2025 - year \n",
    "print (f\"You are {age} years old\")"
   ]
  },
  {
   "cell_type": "code",
   "execution_count": null,
   "id": "6189dd07",
   "metadata": {},
   "outputs": [
    {
     "name": "stdout",
     "output_type": "stream",
     "text": [
      "[60, 62, 64, 66, 68, 70, 72, 74, 76, 78]\n"
     ]
    }
   ],
   "source": [
    "# Write a function that checks if a number is even\n",
    "numbers = range(60, 79)\n",
    "evens = [number for number in numbers if number % 2 == 0]\n",
    "print (evens)"
   ]
  },
  {
   "cell_type": "code",
   "execution_count": 28,
   "id": "199940ec",
   "metadata": {},
   "outputs": [
    {
     "name": "stdout",
     "output_type": "stream",
     "text": [
      "[61, 63, 65, 67, 69, 71, 73, 75, 77]\n"
     ]
    }
   ],
   "source": [
    "# Write a function that checks if a number is odd\n",
    "odds = [ number for number in numbers if number % 2 != 0]\n",
    "print (odds)"
   ]
  },
  {
   "cell_type": "code",
   "execution_count": 31,
   "id": "1c1f7cb9",
   "metadata": {},
   "outputs": [
    {
     "name": "stdout",
     "output_type": "stream",
     "text": [
      "[3, 6, 9, 12, 15, 18, 21, 24, 27, 30, 33, 36, 39, 42, 45, 48]\n"
     ]
    }
   ],
   "source": [
    "#Create a list of all numbers divisible by 3 \n",
    "# between 1 and 50 using list comprehension.\n",
    "nums = range(1, 51)\n",
    "divisibles = [number for number in nums if number % 3 == 0]\n",
    "print (divisibles)"
   ]
  },
  {
   "cell_type": "markdown",
   "id": "4683eb60",
   "metadata": {},
   "source": [
    "#### ASSIGNMENT: List python's built in data structures & their methods"
   ]
  },
  {
   "cell_type": "markdown",
   "id": "a68063b5",
   "metadata": {},
   "source": [
    "#### DATA STRUCTURES\n",
    "1. LIST\n",
    "- denoted by []\n",
    "- it's ordered & mutable (can be manipulated many times)\n",
    "- has different methods: append (adding an element to an existing list)\n",
    "                        pop (removes an element from existing list)\n",
    "                        sort, remove etc."
   ]
  },
  {
   "cell_type": "code",
   "execution_count": null,
   "id": "b2621f5c",
   "metadata": {},
   "outputs": [],
   "source": [
    "# example of a list\n",
    "fruits = [\"mangoes\", \"apples\", \"bananas\", \"raspberries\", \"kiwi\"] # lists use the [] brackets"
   ]
  },
  {
   "cell_type": "markdown",
   "id": "d65283f3",
   "metadata": {},
   "source": [
    "2. TUPLE\n",
    "- Ordered BUT immutable (cannot be changed)\n",
    "- Denoted by ()\n",
    "- Has 2 methods: count, index"
   ]
  },
  {
   "cell_type": "code",
   "execution_count": null,
   "id": "8811b487",
   "metadata": {},
   "outputs": [],
   "source": [
    "image_dimensions = (1920, 1080)"
   ]
  },
  {
   "cell_type": "markdown",
   "id": "a78e51eb",
   "metadata": {},
   "source": [
    "3. SETS\n",
    "- unordered & containing only unique items (sets don't take duplicates)\n",
    "- denoted by { }\n",
    "- Methods in set include: union, intersections, etc"
   ]
  },
  {
   "cell_type": "code",
   "execution_count": 32,
   "id": "70120fd5",
   "metadata": {},
   "outputs": [
    {
     "name": "stdout",
     "output_type": "stream",
     "text": [
      "{1, 2, 3, 4, 5, 6, 7}\n"
     ]
    }
   ],
   "source": [
    "set_1 = {1,2,3,3,4,5,6,6,7}\n",
    "print (set_1)"
   ]
  },
  {
   "cell_type": "markdown",
   "id": "4b6e4a56",
   "metadata": {},
   "source": [
    "4. DICTIONARIES\n",
    "- have key value pairs \n",
    "- Are great for structured data\n",
    "- Denoted by { }"
   ]
  },
  {
   "cell_type": "code",
   "execution_count": 34,
   "id": "8d2aedf1",
   "metadata": {},
   "outputs": [
    {
     "name": "stdout",
     "output_type": "stream",
     "text": [
      "{'name': 'Naomi', 'age': 30}\n"
     ]
    }
   ],
   "source": [
    "person = {\"name\": \"Naomi\", \"age\": 30}\n",
    "print (person)"
   ]
  },
  {
   "cell_type": "code",
   "execution_count": 36,
   "id": "d8325f16",
   "metadata": {},
   "outputs": [
    {
     "data": {
      "text/html": [
       "<div>\n",
       "<style scoped>\n",
       "    .dataframe tbody tr th:only-of-type {\n",
       "        vertical-align: middle;\n",
       "    }\n",
       "\n",
       "    .dataframe tbody tr th {\n",
       "        vertical-align: top;\n",
       "    }\n",
       "\n",
       "    .dataframe thead th {\n",
       "        text-align: right;\n",
       "    }\n",
       "</style>\n",
       "<table border=\"1\" class=\"dataframe\">\n",
       "  <thead>\n",
       "    <tr style=\"text-align: right;\">\n",
       "      <th></th>\n",
       "      <th>name</th>\n",
       "      <th>age</th>\n",
       "      <th>fruit</th>\n",
       "    </tr>\n",
       "  </thead>\n",
       "  <tbody>\n",
       "    <tr>\n",
       "      <th>0</th>\n",
       "      <td>Isaac</td>\n",
       "      <td>27</td>\n",
       "      <td>mangoes</td>\n",
       "    </tr>\n",
       "    <tr>\n",
       "      <th>1</th>\n",
       "      <td>Sharon</td>\n",
       "      <td>20</td>\n",
       "      <td>bananas</td>\n",
       "    </tr>\n",
       "    <tr>\n",
       "      <th>2</th>\n",
       "      <td>Eugyene</td>\n",
       "      <td>35</td>\n",
       "      <td>pineapples</td>\n",
       "    </tr>\n",
       "  </tbody>\n",
       "</table>\n",
       "</div>"
      ],
      "text/plain": [
       "      name  age       fruit\n",
       "0    Isaac   27     mangoes\n",
       "1   Sharon   20     bananas\n",
       "2  Eugyene   35  pineapples"
      ]
     },
     "execution_count": 36,
     "metadata": {},
     "output_type": "execute_result"
    }
   ],
   "source": [
    "import pandas as pd\n",
    "data = {\"name\": [\"Isaac\", \"Sharon\", \"Eugyene\"],\n",
    "        \"age\": [27, 20, 35],\n",
    "        \"fruit\": [\"mangoes\",\"bananas\", \"pineapples\"]}\n",
    "\n",
    "df = pd.DataFrame (data)\n",
    "df.head ()"
   ]
  }
 ],
 "metadata": {
  "kernelspec": {
   "display_name": "base",
   "language": "python",
   "name": "python3"
  },
  "language_info": {
   "codemirror_mode": {
    "name": "ipython",
    "version": 3
   },
   "file_extension": ".py",
   "mimetype": "text/x-python",
   "name": "python",
   "nbconvert_exporter": "python",
   "pygments_lexer": "ipython3",
   "version": "3.12.7"
  }
 },
 "nbformat": 4,
 "nbformat_minor": 5
}
