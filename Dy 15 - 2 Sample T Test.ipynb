{
 "cells": [
  {
   "cell_type": "code",
   "execution_count": 1,
   "id": "13bb9994",
   "metadata": {},
   "outputs": [],
   "source": [
    "import numpy as np\n",
    "from scipy import stats"
   ]
  },
  {
   "cell_type": "code",
   "execution_count": 2,
   "id": "5d0e8752",
   "metadata": {},
   "outputs": [],
   "source": [
    "# Use this sample data to conduct experimentation\n",
    "\n",
    "control = np.array([166, 165, 120,  94, 104, 166,  98,  85,  97,  87, 114, 100, 152,\n",
    "                    87, 152, 102,  82,  80,  84, 109,  98, 154, 135, 164, 137, 128,\n",
    "                    122, 146,  86, 146,  85, 101, 109, 105, 163, 136, 142, 144, 140,\n",
    "                    128, 126, 119, 121, 126, 169,  87,  97, 167,  89, 155])\n",
    "\n",
    "experimental = np.array([ 83, 100, 123,  75, 130,  77,  78,  87, 116, 116, 141,  93, 107,\n",
    "                         101, 142, 152, 130, 123, 122, 154, 119, 149, 106, 107, 108, 151,\n",
    "                         97,  95, 104, 141,  80, 110, 136, 134, 142, 135, 111,  83,  86,\n",
    "                         116,  86, 117,  87, 143, 104, 107,  86,  88, 124,  76])\n"
   ]
  },
  {
   "cell_type": "code",
   "execution_count": 3,
   "id": "52430d0d",
   "metadata": {},
   "outputs": [
    {
     "name": "stdout",
     "output_type": "stream",
     "text": [
      "121.38\n"
     ]
    }
   ],
   "source": [
    "#sample mean for control and sample mean for experimental groups:\n",
    "control_mean = control.mean()\n",
    "print(control_mean)"
   ]
  },
  {
   "cell_type": "code",
   "execution_count": 4,
   "id": "36ad3d99",
   "metadata": {},
   "outputs": [
    {
     "name": "stdout",
     "output_type": "stream",
     "text": [
      "111.56\n"
     ]
    }
   ],
   "source": [
    "experimental_mean = experimental.mean()\n",
    "print(experimental_mean)"
   ]
  },
  {
   "cell_type": "markdown",
   "id": "d9847162",
   "metadata": {},
   "source": [
    "- Alternative hypothesis: there's a clear difference btwn the two means, thus the drug has an effect\n",
    "- Null hypothesis: there's no clear difference btwn the two means, thus the drug has no effect"
   ]
  },
  {
   "cell_type": "code",
   "execution_count": null,
   "id": "dc23cd71",
   "metadata": {},
   "outputs": [
    {
     "name": "stdout",
     "output_type": "stream",
     "text": [
      "805.9955102040815\n",
      "541.5983673469387\n"
     ]
    }
   ],
   "source": [
    "# get the significance level\n",
    "alpha = 0.05\n",
    "# sample variance for control group\n",
    "samp_var_control = np.var(control, ddof=1)\n",
    "print (samp_var_control)\n",
    "\n",
    "#experimental group \n",
    "samp_var_expt = np.var(experimental, ddof=1)\n",
    "print(samp_var_expt)"
   ]
  },
  {
   "cell_type": "code",
   "execution_count": 7,
   "id": "6871e87a",
   "metadata": {},
   "outputs": [
    {
     "name": "stdout",
     "output_type": "stream",
     "text": [
      "673.7969387755102\n"
     ]
    }
   ],
   "source": [
    "#Pool variance:\n",
    "pool_var = ((49 * samp_var_control) + (49 * samp_var_expt))/98\n",
    "print (pool_var) "
   ]
  },
  {
   "cell_type": "code",
   "execution_count": 8,
   "id": "e8eef221",
   "metadata": {},
   "outputs": [
    {
     "data": {
      "text/plain": [
       "1.8915462966190273"
      ]
     },
     "execution_count": 8,
     "metadata": {},
     "output_type": "execute_result"
    }
   ],
   "source": [
    "# Calculate 2 sample TTest statistics:\n",
    "t = (control_mean - experimental_mean)/np.sqrt(pool_var*((1/50+1/50)))\n",
    "t"
   ]
  },
  {
   "cell_type": "code",
   "execution_count": 9,
   "id": "e69e97bc",
   "metadata": {},
   "outputs": [
    {
     "data": {
      "text/plain": [
       "0.06150424067253037"
      ]
     },
     "execution_count": 9,
     "metadata": {},
     "output_type": "execute_result"
    }
   ],
   "source": [
    "# get the P value\n",
    "lower_tail = stats.t.cdf(-t, 98, 0, 1) #cdf returning area under lower tail curve\n",
    "\n",
    "upper_tail = (1-stats.t.cdf(t, 98,0, 1)) #cdf returning area under upper tail curve\n",
    "\n",
    "#joint pvalue\n",
    "pvalue = lower_tail + upper_tail\n",
    "pvalue"
   ]
  },
  {
   "cell_type": "markdown",
   "id": "62a0d38b",
   "metadata": {},
   "source": [
    "- Based on the current evidence, fail to reject null hypothesis, and conclude that the new drug has no effect"
   ]
  }
 ],
 "metadata": {
  "kernelspec": {
   "display_name": "base",
   "language": "python",
   "name": "python3"
  },
  "language_info": {
   "codemirror_mode": {
    "name": "ipython",
    "version": 3
   },
   "file_extension": ".py",
   "mimetype": "text/x-python",
   "name": "python",
   "nbconvert_exporter": "python",
   "pygments_lexer": "ipython3",
   "version": "3.12.7"
  }
 },
 "nbformat": 4,
 "nbformat_minor": 5
}
