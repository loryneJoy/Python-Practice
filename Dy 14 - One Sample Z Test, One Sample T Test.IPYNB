{
 "cells": [
  {
   "cell_type": "markdown",
   "id": "8a876c77",
   "metadata": {},
   "source": [
    "## T - TEST\n",
    "\n",
    "#### question:\n",
    "Acme Ltd. wants to improve sales performance. Past sales data indicate that the average sale was 100 dollars per transaction. After training the sales force, recent sales data (from a random sample of 25 salesmen) is shown below.\n",
    "\n",
    "      [122.09, 100.64, 125.77, 120.32, 118.25,  \n",
    "        96.47, 111.4 ,  80.66, 110.77, 111.14, \n",
    "        102.9, 114.54,  88.09,  98.59,  87.07, \n",
    "       110.43, 101.9 , 123.89,  97.03, 116.23, \n",
    "        108.3, 112.82, 119.57, 131.38, 128.39]"
   ]
  },
  {
   "cell_type": "code",
   "execution_count": null,
   "id": "dc7b9a5b",
   "metadata": {},
   "outputs": [
    {
     "name": "stdout",
     "output_type": "stream",
     "text": [
      "109.5456\n"
     ]
    }
   ],
   "source": [
    "import numpy as np\n",
    "\n",
    "mu = 100 #population mean\n",
    "sample =  [122.09, 100.64, 125.77, 120.32, 118.25,  \n",
    "        96.47, 111.4 ,  80.66, 110.77, 111.14, \n",
    "        102.9, 114.54,  88.09,  98.59,  87.07, \n",
    "       110.43, 101.9 , 123.89,  97.03, 116.23, \n",
    "        108.3, 112.82, 119.57, 131.38, 128.39]\n",
    "sample_mean = sum(sample)/len(sample)\n",
    "print (sample_mean) #109.5456"
   ]
  },
  {
   "cell_type": "code",
   "execution_count": null,
   "id": "7bf7bbcf",
   "metadata": {},
   "outputs": [
    {
     "data": {
      "text/plain": [
       "13.338774643871902"
      ]
     },
     "execution_count": 2,
     "metadata": {},
     "output_type": "execute_result"
    }
   ],
   "source": [
    "mu = 100\n",
    "# calculate standard deviation:\n",
    "sigma = np.std(sample, ddof=1)\n",
    "sigma"
   ]
  },
  {
   "cell_type": "code",
   "execution_count": 3,
   "id": "f817eccd",
   "metadata": {},
   "outputs": [
    {
     "data": {
      "text/plain": [
       "24"
      ]
     },
     "execution_count": 3,
     "metadata": {},
     "output_type": "execute_result"
    }
   ],
   "source": [
    "# sample size\n",
    "n = 25\n",
    "\n",
    "#degrees of freedom;\n",
    "df = n - 1\n",
    "df "
   ]
  },
  {
   "cell_type": "code",
   "execution_count": null,
   "id": "4edf8dff",
   "metadata": {},
   "outputs": [
    {
     "data": {
      "text/plain": [
       "3.578139767278185"
      ]
     },
     "execution_count": 4,
     "metadata": {},
     "output_type": "execute_result"
    }
   ],
   "source": [
    "# to calculate t statistic (T Value):\n",
    "t = (sample_mean - mu)/(sigma/np.sqrt(n))\n",
    "t"
   ]
  },
  {
   "cell_type": "code",
   "execution_count": 14,
   "id": "6f1c66c0",
   "metadata": {},
   "outputs": [
    {
     "data": {
      "text/plain": [
       "1.7108820799094275"
      ]
     },
     "execution_count": 14,
     "metadata": {},
     "output_type": "execute_result"
    }
   ],
   "source": [
    "from scipy import stats\n",
    "import io \n",
    "import sys\n",
    "\n",
    "# to get t critical value:\n",
    "t_critical = stats.t.ppf(1 - 0.05, df=df)\n",
    "t_critical"
   ]
  },
  {
   "cell_type": "code",
   "execution_count": 6,
   "id": "acc080ff",
   "metadata": {},
   "outputs": [
    {
     "data": {
      "text/plain": [
       "TtestResult(statistic=3.578139767278185, pvalue=0.0015178945415114085, df=24)"
      ]
     },
     "execution_count": 6,
     "metadata": {},
     "output_type": "execute_result"
    }
   ],
   "source": [
    "# TO CALCULATE USING TTEST 1 SAMP:\n",
    "t_results = stats.ttest_1samp(a=sample, popmean=mu)\n",
    "t_results"
   ]
  },
  {
   "cell_type": "markdown",
   "id": "ff9b237d",
   "metadata": {},
   "source": [
    "##\n",
    "Exercise 1:\n",
    "Create a function in Python one_sample_ttest(sample, popmean, alpha) that will take in sample data (an array of observations), the population mean and the alpha value to calculate and print out the t-statistic, critical t-value, and p-value for the sample and identify if the results are significant or not. The function should also create a visualization using seaborn of the distribution to check for normality."
   ]
  },
  {
   "cell_type": "code",
   "execution_count": 30,
   "id": "8dcd4401",
   "metadata": {},
   "outputs": [],
   "source": [
    "def one_sample_ttest (sample, popmean, alpha):\n",
    "    buffer = io.StringIO() # buffer is used to capture print inside function to display them\n",
    "    sys.stdout = buffer \n",
    "    samplemean = np.mean(sample) #calculates mean of sample \n",
    "    samplesd = np.std(sample, ddof=1) # calculates standard deviation of sample\n",
    "    tstats = (samplemean - popmean)/(samplesd/np.sqrt(len(sample))) #calculates tvalue\n",
    "    t_critical = stats.t.ppf(1-alpha, df=(len(sample)-1)) # gives tcritical\n",
    "    results = stats.ttest_1samp(a=sample, popmean=popmean) # to find pvalue\n",
    "    pvalue = results.pvalue # gives actual pvalue\n",
    "    print(f\"sample mean:{samplemean}\")\n",
    "    print(f\"standard deviation:{samplesd}\")\n",
    "    print(f\"t statistics: {tstats}\")\n",
    "    print(f\"t critical: {t_critical}\")\n",
    "    print(f\"p value: {pvalue}\")\n",
    "    if pvalue < alpha:\n",
    "        print(\"reject null hypothesis, conclude difference is statistically significant\")\n",
    "    else:\n",
    "        print(\"fail to reject null hypothesis, conclude the difference is not statistically significant\")\n",
    "    sys.stdout = sys.__stdout__ #resets the stdout to return the results\n",
    "    output = buffer.getvalue()\n",
    "    buffer.close()\n",
    "    return tstats, t_critical, pvalue, output\n"
   ]
  },
  {
   "cell_type": "code",
   "execution_count": 31,
   "id": "90aeb90a",
   "metadata": {},
   "outputs": [
    {
     "data": {
      "text/plain": [
       "(1.0,\n",
       " 1.8331129326536335,\n",
       " 0.34343639613791355,\n",
       " 'sample mean:12.5\\nstandard deviation:1.5811388300841898\\nt statistics: 1.0\\nt critical: 1.8331129326536335\\np value: 0.34343639613791355\\nfail to reject null hypothesis, conclude the difference is not statistically significant\\n')"
      ]
     },
     "execution_count": 31,
     "metadata": {},
     "output_type": "execute_result"
    }
   ],
   "source": [
    "sample_data = [12, 11, 14, 10, 13, 15, 12, 14, 13, 11]\n",
    "popmean = 12\n",
    "alpha = 0.05 \n",
    "\n",
    "one_sample_ttest(sample_data, popmean, alpha)"
   ]
  },
  {
   "cell_type": "markdown",
   "id": "9636ee1c",
   "metadata": {},
   "source": [
    "# exercise 2:\n",
    "In a Python class, some of the students have taken online courses to improve their Python skills. The scores of a random sample of 20 students who underwent the online-course on a Python test are as follows:\n",
    "\n",
    " [84.0, 92.4, 74.3, 79.4, 86.7, 75.3, 90.9, 86.1, 81.0, 85.1, \n",
    "  78.7, 73.5, 86.9, 87.4, 82.7, 81.9, 69.9, 77.2, 79.3, 83.3]\n",
    "The mean score of the class before the test is 65. The teacher thinks that the online training has really helped the students and now they should perform better than the class (population) mean. Use this to set your null and alternative hypotheses.\n",
    "\n",
    "Q. A. Test to see if the sample mean is significantly different from 65 at the .05 level. Report the t- and p-values.\n",
    "Q.B. The researcher realizes that she accidentally recorded the score that should have been 80.9 as 90.9. Are these corrected scores significantly different from 65 at the .05 level?\n",
    "Bonus: What is the effect size of the first sample compared to the population? How can you interpret this effect size in relation to your significance test?"
   ]
  },
  {
   "cell_type": "code",
   "execution_count": null,
   "id": "e9a2bf36",
   "metadata": {},
   "outputs": [
    {
     "data": {
      "text/plain": [
       "(12.687592157174493,\n",
       " 1.729132811521367,\n",
       " 1.0053355594452825e-10,\n",
       " 'sample mean:81.80000000000001\\nstandard deviation:5.9216818379134235\\nt statistics: 12.687592157174493\\nt critical: 1.729132811521367\\np value: 1.0053355594452825e-10\\nreject null hypothesis, conclude difference is statistically significant\\n')"
      ]
     },
     "execution_count": 34,
     "metadata": {},
     "output_type": "execute_result"
    }
   ],
   "source": [
    "# Q. A ANS:\n",
    "# Test to see if the sample mean is significantly different from 65 at the .05 level. \n",
    "# Report the t- and p-values.\n",
    "\n",
    "random_sample = [84.0, 92.4, 74.3, 79.4, 86.7, 75.3, 90.9, 86.1, 81.0, 85.1, \n",
    "  78.7, 73.5, 86.9, 87.4, 82.7, 81.9, 69.9, 77.2, 79.3, 83.3]\n",
    "mu = 65\n",
    "n = 20\n",
    "alpha = 0.05\n",
    "samplerandommean = np.mean(random_sample)\n",
    "\n",
    "one_sample_ttest(random_sample, mu, alpha)\n"
   ]
  },
  {
   "cell_type": "code",
   "execution_count": 36,
   "id": "05436dfd",
   "metadata": {},
   "outputs": [
    {
     "data": {
      "text/plain": [
       "(13.202088288314906,\n",
       " 1.729132811521367,\n",
       " 5.083361606682268e-11,\n",
       " 'sample mean:81.30000000000001\\nstandard deviation:5.521536780738914\\nt statistics: 13.202088288314906\\nt critical: 1.729132811521367\\np value: 5.083361606682268e-11\\nreject null hypothesis, conclude difference is statistically significant\\n')"
      ]
     },
     "execution_count": 36,
     "metadata": {},
     "output_type": "execute_result"
    }
   ],
   "source": [
    "# Q. B ANS:\n",
    "# The researcher realizes that she accidentally recorded the score that should have been 80.9 as 90.9. \n",
    "# Are these corrected scores significantly different from 65 at the .05 level?\n",
    "\n",
    "random_sample2 = [84.0, 92.4, 74.3, 79.4, 86.7, 75.3, 80.9, 86.1, 81.0, 85.1, \n",
    "  78.7, 73.5, 86.9, 87.4, 82.7, 81.9, 69.9, 77.2, 79.3, 83.3]\n",
    "\n",
    "samplerandommean = np.mean(random_sample2)\n",
    "\n",
    "one_sample_ttest(random_sample2, mu, alpha)"
   ]
  },
  {
   "cell_type": "code",
   "execution_count": 37,
   "id": "a5e64601",
   "metadata": {},
   "outputs": [],
   "source": [
    "# Q. BONUS ANS:\n",
    "# What is the effect size of the first sample compared to the population? \n",
    "# How can you interpret this effect size in relation to your significance test?\n"
   ]
  }
 ],
 "metadata": {
  "kernelspec": {
   "display_name": "base",
   "language": "python",
   "name": "python3"
  },
  "language_info": {
   "codemirror_mode": {
    "name": "ipython",
    "version": 3
   },
   "file_extension": ".py",
   "mimetype": "text/x-python",
   "name": "python",
   "nbconvert_exporter": "python",
   "pygments_lexer": "ipython3",
   "version": "3.12.7"
  }
 },
 "nbformat": 4,
 "nbformat_minor": 5
}
