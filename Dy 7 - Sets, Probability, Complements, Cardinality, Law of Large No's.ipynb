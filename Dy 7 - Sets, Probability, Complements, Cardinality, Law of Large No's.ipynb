{
 "cells": [
  {
   "cell_type": "markdown",
   "id": "d617281d",
   "metadata": {},
   "source": [
    "# INTRO TO SETS"
   ]
  },
  {
   "cell_type": "code",
   "execution_count": 22,
   "id": "06594d36",
   "metadata": {},
   "outputs": [
    {
     "name": "stdout",
     "output_type": "stream",
     "text": [
      "1\n",
      "2\n",
      "3\n",
      "4\n",
      "5\n"
     ]
    }
   ],
   "source": [
    "set1 = {1,2,3,4,5} # a superset of set3, also a subset of set5, a superset of set5\n",
    "set2 = {4,5,6,7,8}\n",
    "set3 = {1,2,3} #a subset of set1, they share elements. \n",
    "set4 = {6,7,8}\n",
    "set5 = {1,2,3,4,5} #a subset of set1\n",
    "\n",
    "#forloop\n",
    "for element in set1:\n",
    "    print(element)"
   ]
  },
  {
   "cell_type": "code",
   "execution_count": 23,
   "id": "f4b73bf4",
   "metadata": {},
   "outputs": [
    {
     "data": {
      "text/plain": [
       "False"
      ]
     },
     "execution_count": 23,
     "metadata": {},
     "output_type": "execute_result"
    }
   ],
   "source": [
    "6 in set1"
   ]
  },
  {
   "cell_type": "code",
   "execution_count": 24,
   "id": "fa526f01",
   "metadata": {},
   "outputs": [
    {
     "data": {
      "text/plain": [
       "True"
      ]
     },
     "execution_count": 24,
     "metadata": {},
     "output_type": "execute_result"
    }
   ],
   "source": [
    "6 not in set1"
   ]
  },
  {
   "cell_type": "markdown",
   "id": "b6158260",
   "metadata": {},
   "source": [
    "# WORKING WITH MULTIPLE SETS"
   ]
  },
  {
   "cell_type": "code",
   "execution_count": 25,
   "id": "5387ae57",
   "metadata": {},
   "outputs": [
    {
     "data": {
      "text/plain": [
       "True"
      ]
     },
     "execution_count": 25,
     "metadata": {},
     "output_type": "execute_result"
    }
   ],
   "source": [
    "#to see if a set is a subset of another set:\n",
    "set3.issubset(set1)"
   ]
  },
  {
   "cell_type": "code",
   "execution_count": 26,
   "id": "943f8d79",
   "metadata": {},
   "outputs": [
    {
     "data": {
      "text/plain": [
       "True"
      ]
     },
     "execution_count": 26,
     "metadata": {},
     "output_type": "execute_result"
    }
   ],
   "source": [
    "#if set 4 is a subset of set2:\n",
    "set4.issubset(set2)"
   ]
  },
  {
   "cell_type": "code",
   "execution_count": 27,
   "id": "f4bafad5",
   "metadata": {},
   "outputs": [
    {
     "data": {
      "text/plain": [
       "True"
      ]
     },
     "execution_count": 27,
     "metadata": {},
     "output_type": "execute_result"
    }
   ],
   "source": [
    "#using the comparison operator:\n",
    "set3 <= set1"
   ]
  },
  {
   "cell_type": "code",
   "execution_count": 28,
   "id": "506ad91a",
   "metadata": {},
   "outputs": [
    {
     "data": {
      "text/plain": [
       "True"
      ]
     },
     "execution_count": 28,
     "metadata": {},
     "output_type": "execute_result"
    }
   ],
   "source": [
    "set3 < set1"
   ]
  },
  {
   "cell_type": "code",
   "execution_count": 29,
   "id": "099df65d",
   "metadata": {},
   "outputs": [
    {
     "data": {
      "text/plain": [
       "False"
      ]
     },
     "execution_count": 29,
     "metadata": {},
     "output_type": "execute_result"
    }
   ],
   "source": [
    "set5 < set1"
   ]
  },
  {
   "cell_type": "markdown",
   "id": "ac1a1f4e",
   "metadata": {},
   "source": [
    "#### SUPERSETS\n",
    "- Inverse of a subset\n",
    "- SET1 IS A SUPERSET OF SET3, AND SET5\n",
    "- SET5 IS A SUPERSET OF SET1"
   ]
  },
  {
   "cell_type": "code",
   "execution_count": 30,
   "id": "bb82cc1d",
   "metadata": {},
   "outputs": [
    {
     "data": {
      "text/plain": [
       "True"
      ]
     },
     "execution_count": 30,
     "metadata": {},
     "output_type": "execute_result"
    }
   ],
   "source": [
    "set5 >= set1 #to verify supersets"
   ]
  },
  {
   "cell_type": "code",
   "execution_count": 31,
   "id": "0aebb7ef",
   "metadata": {},
   "outputs": [
    {
     "data": {
      "text/plain": [
       "False"
      ]
     },
     "execution_count": 31,
     "metadata": {},
     "output_type": "execute_result"
    }
   ],
   "source": [
    "#if set1 is a proper superset of set5:\n",
    "set1 > set5"
   ]
  },
  {
   "cell_type": "code",
   "execution_count": 32,
   "id": "87baa558",
   "metadata": {},
   "outputs": [
    {
     "data": {
      "text/plain": [
       "True"
      ]
     },
     "execution_count": 32,
     "metadata": {},
     "output_type": "execute_result"
    }
   ],
   "source": [
    "set1 > set3 #if set 1 is a proper superset of set3"
   ]
  },
  {
   "cell_type": "markdown",
   "id": "2093cfbe",
   "metadata": {},
   "source": [
    "# CORE SET OPERATIONS\n",
    "1. UNION OF SETS\n",
    "-combination of 2 sets, elements of set 1 set 2 or both\n",
    "- use operator OR"
   ]
  },
  {
   "cell_type": "code",
   "execution_count": 33,
   "id": "254a09d0",
   "metadata": {},
   "outputs": [
    {
     "data": {
      "text/plain": [
       "{1, 2, 3, 4, 5, 6, 7, 8}"
      ]
     },
     "execution_count": 33,
     "metadata": {},
     "output_type": "execute_result"
    }
   ],
   "source": [
    "#union example 1:\n",
    "set1.union(set2)"
   ]
  },
  {
   "cell_type": "code",
   "execution_count": 34,
   "id": "97c77634",
   "metadata": {},
   "outputs": [
    {
     "data": {
      "text/plain": [
       "{1, 2, 3, 4, 5, 6, 7, 8}"
      ]
     },
     "execution_count": 34,
     "metadata": {},
     "output_type": "execute_result"
    }
   ],
   "source": [
    "# writing union example 2:\n",
    "set1|set2"
   ]
  },
  {
   "cell_type": "markdown",
   "id": "e74b446b",
   "metadata": {},
   "source": [
    "2. INTERSECTION OF 2 SETS\n",
    "- Shows the similar/common elements in both sets\n",
    "- uses the operator &\n",
    "- also uses the method .intersection"
   ]
  },
  {
   "cell_type": "code",
   "execution_count": 35,
   "id": "e14ac44d",
   "metadata": {},
   "outputs": [
    {
     "data": {
      "text/plain": [
       "{4, 5}"
      ]
     },
     "execution_count": 35,
     "metadata": {},
     "output_type": "execute_result"
    }
   ],
   "source": [
    "#intersection of set 1 and 2\n",
    "set1.intersection(set2)"
   ]
  },
  {
   "cell_type": "code",
   "execution_count": 36,
   "id": "b9a78db6",
   "metadata": {},
   "outputs": [
    {
     "data": {
      "text/plain": [
       "{4, 5}"
      ]
     },
     "execution_count": 36,
     "metadata": {},
     "output_type": "execute_result"
    }
   ],
   "source": [
    "#intersection using &\n",
    "set1&set2"
   ]
  },
  {
   "cell_type": "markdown",
   "id": "a0e49b81",
   "metadata": {},
   "source": [
    "# READING ASSIGNMENT: \n",
    "## complements (relative complement of difference, and absolute complement)"
   ]
  },
  {
   "cell_type": "markdown",
   "id": "3ff96b35",
   "metadata": {},
   "source": [
    "#### OTHER SET ATTRIBUTES\n",
    "1. CARDINALITY\n",
    "- the number of elements in the set.\n",
    "-  uses the built-in len function"
   ]
  },
  {
   "cell_type": "code",
   "execution_count": 37,
   "id": "2aeedea4",
   "metadata": {},
   "outputs": [
    {
     "data": {
      "text/plain": [
       "5"
      ]
     },
     "execution_count": 37,
     "metadata": {},
     "output_type": "execute_result"
    }
   ],
   "source": [
    "len(set1)"
   ]
  },
  {
   "cell_type": "markdown",
   "id": "a97f09c5",
   "metadata": {},
   "source": [
    "###### Inclusion-Exclusion Principle\n",
    "- a counting technique\n",
    "- sets don't take duplicates\n",
    "- eXAMPLE: union of S and T: S+T - S&T"
   ]
  },
  {
   "cell_type": "markdown",
   "id": "e9ab133f",
   "metadata": {},
   "source": [
    "# SUBMISSION ASSIGNMENT\n",
    "[SETS-LAB ASSIGNMENT](https://github.com/learn-co-curriculum/dsc-intro-to-sets-lab)\n",
    "- post on github"
   ]
  },
  {
   "cell_type": "markdown",
   "id": "b9fcfa77",
   "metadata": {},
   "source": [
    "# INTRODUCTION TO PROBABILITY\n",
    "- This is the likelyhood of an event happening\n",
    "\n",
    "- EXPERIMENT - the action\n",
    "- OUTCOME - the result of an experiment\n",
    "- EVENT - the outcome of a particular random experiment\n",
    "- SAMPLE SPACES - represents the universe of all possible outcomes. eg in rolling a dice, its 1,2,3,4,5,6\n",
    "- EVENT SPACE - a subset of the sample space, focuses only on the outcome one is interested in\n",
    "\n",
    "## LAW OF LARGE NUMBERS\n",
    "-\n",
    "- Probability ranges between 0 - 1\n",
    "\n",
    "PROBABILITY AXIOM\n",
    "Include:\n",
    "1. Positivity -\n",
    "A probability is always bigger than or equal to 0, or \n",
    "2. Probability of a Certain Event -\n",
    "If the event of interest is the sample space\n",
    "3. Additivity -\n",
    "The probability of the union of two exclusive events is equal to the sum of the probabilities of the individual events happening.\n",
    "The inclusion-exclusion principle, the same logic works for the probability of events in two event space sets\n",
    "Addition Law of Probability\n"
   ]
  }
 ],
 "metadata": {
  "kernelspec": {
   "display_name": "base",
   "language": "python",
   "name": "python3"
  },
  "language_info": {
   "codemirror_mode": {
    "name": "ipython",
    "version": 3
   },
   "file_extension": ".py",
   "mimetype": "text/x-python",
   "name": "python",
   "nbconvert_exporter": "python",
   "pygments_lexer": "ipython3",
   "version": "3.12.7"
  }
 },
 "nbformat": 4,
 "nbformat_minor": 5
}
