{
 "cells": [
  {
   "cell_type": "markdown",
   "id": "e9c2c1a3",
   "metadata": {},
   "source": [
    "# STATISTICAL DISTTRIBUTION"
   ]
  },
  {
   "cell_type": "code",
   "execution_count": 22,
   "id": "df6a5885",
   "metadata": {},
   "outputs": [],
   "source": [
    "import pandas as pd\n",
    "import matplotlib.pyplot as plt\n",
    "import numpy as np\n",
    "import seaborn as sns\n",
    "from scipy import stats"
   ]
  },
  {
   "cell_type": "code",
   "execution_count": 3,
   "id": "d2caf817",
   "metadata": {},
   "outputs": [
    {
     "data": {
      "text/html": [
       "<div>\n",
       "<style scoped>\n",
       "    .dataframe tbody tr th:only-of-type {\n",
       "        vertical-align: middle;\n",
       "    }\n",
       "\n",
       "    .dataframe tbody tr th {\n",
       "        vertical-align: top;\n",
       "    }\n",
       "\n",
       "    .dataframe thead th {\n",
       "        text-align: right;\n",
       "    }\n",
       "</style>\n",
       "<table border=\"1\" class=\"dataframe\">\n",
       "  <thead>\n",
       "    <tr style=\"text-align: right;\">\n",
       "      <th></th>\n",
       "      <th>PassengerId</th>\n",
       "      <th>Survived</th>\n",
       "      <th>Pclass</th>\n",
       "      <th>Name</th>\n",
       "      <th>Sex</th>\n",
       "      <th>Age</th>\n",
       "      <th>SibSp</th>\n",
       "      <th>Parch</th>\n",
       "      <th>Ticket</th>\n",
       "      <th>Fare</th>\n",
       "      <th>Cabin</th>\n",
       "      <th>Embarked</th>\n",
       "    </tr>\n",
       "  </thead>\n",
       "  <tbody>\n",
       "    <tr>\n",
       "      <th>0</th>\n",
       "      <td>892</td>\n",
       "      <td>0</td>\n",
       "      <td>3</td>\n",
       "      <td>Kelly, Mr. James</td>\n",
       "      <td>male</td>\n",
       "      <td>34.5</td>\n",
       "      <td>0</td>\n",
       "      <td>0</td>\n",
       "      <td>330911</td>\n",
       "      <td>7.8292</td>\n",
       "      <td>NaN</td>\n",
       "      <td>Q</td>\n",
       "    </tr>\n",
       "    <tr>\n",
       "      <th>1</th>\n",
       "      <td>893</td>\n",
       "      <td>1</td>\n",
       "      <td>3</td>\n",
       "      <td>Wilkes, Mrs. James (Ellen Needs)</td>\n",
       "      <td>female</td>\n",
       "      <td>47.0</td>\n",
       "      <td>1</td>\n",
       "      <td>0</td>\n",
       "      <td>363272</td>\n",
       "      <td>7.0000</td>\n",
       "      <td>NaN</td>\n",
       "      <td>S</td>\n",
       "    </tr>\n",
       "    <tr>\n",
       "      <th>2</th>\n",
       "      <td>894</td>\n",
       "      <td>0</td>\n",
       "      <td>2</td>\n",
       "      <td>Myles, Mr. Thomas Francis</td>\n",
       "      <td>male</td>\n",
       "      <td>62.0</td>\n",
       "      <td>0</td>\n",
       "      <td>0</td>\n",
       "      <td>240276</td>\n",
       "      <td>9.6875</td>\n",
       "      <td>NaN</td>\n",
       "      <td>Q</td>\n",
       "    </tr>\n",
       "    <tr>\n",
       "      <th>3</th>\n",
       "      <td>895</td>\n",
       "      <td>0</td>\n",
       "      <td>3</td>\n",
       "      <td>Wirz, Mr. Albert</td>\n",
       "      <td>male</td>\n",
       "      <td>27.0</td>\n",
       "      <td>0</td>\n",
       "      <td>0</td>\n",
       "      <td>315154</td>\n",
       "      <td>8.6625</td>\n",
       "      <td>NaN</td>\n",
       "      <td>S</td>\n",
       "    </tr>\n",
       "    <tr>\n",
       "      <th>4</th>\n",
       "      <td>896</td>\n",
       "      <td>1</td>\n",
       "      <td>3</td>\n",
       "      <td>Hirvonen, Mrs. Alexander (Helga E Lindqvist)</td>\n",
       "      <td>female</td>\n",
       "      <td>22.0</td>\n",
       "      <td>1</td>\n",
       "      <td>1</td>\n",
       "      <td>3101298</td>\n",
       "      <td>12.2875</td>\n",
       "      <td>NaN</td>\n",
       "      <td>S</td>\n",
       "    </tr>\n",
       "  </tbody>\n",
       "</table>\n",
       "</div>"
      ],
      "text/plain": [
       "   PassengerId  Survived  Pclass  \\\n",
       "0          892         0       3   \n",
       "1          893         1       3   \n",
       "2          894         0       2   \n",
       "3          895         0       3   \n",
       "4          896         1       3   \n",
       "\n",
       "                                           Name     Sex   Age  SibSp  Parch  \\\n",
       "0                              Kelly, Mr. James    male  34.5      0      0   \n",
       "1              Wilkes, Mrs. James (Ellen Needs)  female  47.0      1      0   \n",
       "2                     Myles, Mr. Thomas Francis    male  62.0      0      0   \n",
       "3                              Wirz, Mr. Albert    male  27.0      0      0   \n",
       "4  Hirvonen, Mrs. Alexander (Helga E Lindqvist)  female  22.0      1      1   \n",
       "\n",
       "    Ticket     Fare Cabin Embarked  \n",
       "0   330911   7.8292   NaN        Q  \n",
       "1   363272   7.0000   NaN        S  \n",
       "2   240276   9.6875   NaN        Q  \n",
       "3   315154   8.6625   NaN        S  \n",
       "4  3101298  12.2875   NaN        S  "
      ]
     },
     "execution_count": 3,
     "metadata": {},
     "output_type": "execute_result"
    }
   ],
   "source": [
    "df = pd.read_csv('titanic _dataset.csv')\n",
    "df.head()"
   ]
  },
  {
   "cell_type": "code",
   "execution_count": null,
   "id": "0895f936",
   "metadata": {},
   "outputs": [
    {
     "data": {
      "text/plain": [
       "30.272590361445783"
      ]
     },
     "execution_count": 4,
     "metadata": {},
     "output_type": "execute_result"
    }
   ],
   "source": [
    "#to get mean Age population:\n",
    "population_mean = df [\"Age\"].mean()\n",
    "population_mean"
   ]
  },
  {
   "cell_type": "code",
   "execution_count": 5,
   "id": "b7e30f91",
   "metadata": {},
   "outputs": [
    {
     "data": {
      "text/plain": [
       "29.83125"
      ]
     },
     "execution_count": 5,
     "metadata": {},
     "output_type": "execute_result"
    }
   ],
   "source": [
    "#using sample of 50 pple:\n",
    "sample = df.sample (n = 50, random_state = 27)\n",
    "\n",
    "sample_mean = sample.Age.mean()\n",
    "sample_mean"
   ]
  },
  {
   "cell_type": "code",
   "execution_count": 6,
   "id": "800830f5",
   "metadata": {},
   "outputs": [
    {
     "data": {
      "text/plain": [
       "31.333291139240504"
      ]
     },
     "execution_count": 6,
     "metadata": {},
     "output_type": "execute_result"
    }
   ],
   "source": [
    "sample_100 = df.sample (n=100, random_state = 24)\n",
    "\n",
    "sample_100_mean = sample_100.Age.mean()\n",
    "sample_100_mean"
   ]
  },
  {
   "cell_type": "code",
   "execution_count": null,
   "id": "4867232f",
   "metadata": {},
   "outputs": [
    {
     "data": {
      "text/plain": [
       "30.212846153846154"
      ]
     },
     "execution_count": 8,
     "metadata": {},
     "output_type": "execute_result"
    }
   ],
   "source": [
    "sample_160 = df.sample (n=160, random_state = 22)\n",
    "# Calculate the sample 160 mean\n",
    "sample_160_mean = sample_160.Age.mean()\n",
    "sample_160_mean"
   ]
  },
  {
   "cell_type": "code",
   "execution_count": null,
   "id": "7fb5fdf5",
   "metadata": {},
   "outputs": [
    {
     "data": {
      "text/plain": [
       "0.1973541308698734"
      ]
     },
     "execution_count": 9,
     "metadata": {},
     "output_type": "execute_result"
    }
   ],
   "source": [
    "#percent error, difference between the sample and population\n",
    "error = np.abs(sample_160_mean - population_mean)\n",
    "\n",
    "# Divide by the population mean to find a percent error\n",
    "percent_error = error / population_mean * 100\n",
    "percent_error"
   ]
  },
  {
   "cell_type": "markdown",
   "id": "62a64d1a",
   "metadata": {},
   "source": [
    "# STATISTICAL DISTRIBUTIONS & USE CASES\n",
    "very often, distributions are described using their statistical mean (or expected value) and variance of the data, but this is not always the case.\n"
   ]
  },
  {
   "cell_type": "markdown",
   "id": "5ac0bc39",
   "metadata": {},
   "source": [
    "# The Probability Mass Function (PMF)\n"
   ]
  },
  {
   "cell_type": "code",
   "execution_count": 11,
   "id": "33ee61fd",
   "metadata": {},
   "outputs": [
    {
     "name": "stdout",
     "output_type": "stream",
     "text": [
      "Counter({100: 2, 200: 1, 300: 1, 500: 1, 900: 1})\n"
     ]
    }
   ],
   "source": [
    "#PMF\n",
    "x = [100, 100, 200, 300, 500, 900]\n",
    "from collections import Counter\n",
    "\n",
    "counter = Counter(x)\n",
    "print(counter)"
   ]
  },
  {
   "cell_type": "code",
   "execution_count": 12,
   "id": "55689eb3",
   "metadata": {},
   "outputs": [
    {
     "name": "stdout",
     "output_type": "stream",
     "text": [
      "6\n"
     ]
    }
   ],
   "source": [
    "total_length = len(x)\n",
    "print(total_length)"
   ]
  },
  {
   "cell_type": "code",
   "execution_count": 13,
   "id": "d55f4dcf",
   "metadata": {},
   "outputs": [],
   "source": [
    "#to calc probability\n",
    "def prob (x_i):\n",
    "    frequency = counter[x_i]\n",
    "    return frequency/total_length"
   ]
  },
  {
   "cell_type": "code",
   "execution_count": 15,
   "id": "b4361da3",
   "metadata": {},
   "outputs": [
    {
     "name": "stdout",
     "output_type": "stream",
     "text": [
      "350.0\n"
     ]
    }
   ],
   "source": [
    "#to calculate mean,use list comprehension\n",
    "mu = sum((prob (x_i) * x_i) for x_i in set (x))\n",
    "print (mu)"
   ]
  },
  {
   "cell_type": "code",
   "execution_count": 16,
   "id": "9322730d",
   "metadata": {},
   "outputs": [
    {
     "data": {
      "text/plain": [
       "350.0"
      ]
     },
     "execution_count": 16,
     "metadata": {},
     "output_type": "execute_result"
    }
   ],
   "source": [
    "# mean using numPy\n",
    "x_array = np.array(x)\n",
    "x_array.mean()\n"
   ]
  },
  {
   "cell_type": "code",
   "execution_count": 19,
   "id": "531175d5",
   "metadata": {},
   "outputs": [
    {
     "name": "stdout",
     "output_type": "stream",
     "text": [
      "79166.66666666666\n"
     ]
    }
   ],
   "source": [
    "# To calculate variance\n",
    "variance = sum(prob(x_i)*((x_i - mu)**2) for x_i in set (x))\n",
    "print (variance)"
   ]
  },
  {
   "cell_type": "markdown",
   "id": "8aac9a62",
   "metadata": {},
   "source": [
    "# The Probability Density Function (PDF)"
   ]
  },
  {
   "cell_type": "code",
   "execution_count": 20,
   "id": "5948c9f0",
   "metadata": {},
   "outputs": [
    {
     "data": {
      "text/html": [
       "<div>\n",
       "<style scoped>\n",
       "    .dataframe tbody tr th:only-of-type {\n",
       "        vertical-align: middle;\n",
       "    }\n",
       "\n",
       "    .dataframe tbody tr th {\n",
       "        vertical-align: top;\n",
       "    }\n",
       "\n",
       "    .dataframe thead th {\n",
       "        text-align: right;\n",
       "    }\n",
       "</style>\n",
       "<table border=\"1\" class=\"dataframe\">\n",
       "  <thead>\n",
       "    <tr style=\"text-align: right;\">\n",
       "      <th></th>\n",
       "      <th>Gender</th>\n",
       "      <th>Height</th>\n",
       "      <th>Weight</th>\n",
       "    </tr>\n",
       "  </thead>\n",
       "  <tbody>\n",
       "    <tr>\n",
       "      <th>0</th>\n",
       "      <td>Male</td>\n",
       "      <td>73.847017</td>\n",
       "      <td>241.893563</td>\n",
       "    </tr>\n",
       "    <tr>\n",
       "      <th>1</th>\n",
       "      <td>Male</td>\n",
       "      <td>68.781904</td>\n",
       "      <td>162.310473</td>\n",
       "    </tr>\n",
       "    <tr>\n",
       "      <th>2</th>\n",
       "      <td>Male</td>\n",
       "      <td>74.110105</td>\n",
       "      <td>212.740856</td>\n",
       "    </tr>\n",
       "    <tr>\n",
       "      <th>3</th>\n",
       "      <td>Male</td>\n",
       "      <td>71.730978</td>\n",
       "      <td>220.042470</td>\n",
       "    </tr>\n",
       "    <tr>\n",
       "      <th>4</th>\n",
       "      <td>Male</td>\n",
       "      <td>69.881796</td>\n",
       "      <td>206.349801</td>\n",
       "    </tr>\n",
       "  </tbody>\n",
       "</table>\n",
       "</div>"
      ],
      "text/plain": [
       "  Gender     Height      Weight\n",
       "0   Male  73.847017  241.893563\n",
       "1   Male  68.781904  162.310473\n",
       "2   Male  74.110105  212.740856\n",
       "3   Male  71.730978  220.042470\n",
       "4   Male  69.881796  206.349801"
      ]
     },
     "execution_count": 20,
     "metadata": {},
     "output_type": "execute_result"
    }
   ],
   "source": [
    "df = pd.read_csv (r'weight-height.csv')\n",
    "df.head()"
   ]
  },
  {
   "cell_type": "code",
   "execution_count": 23,
   "id": "cc974cfa",
   "metadata": {},
   "outputs": [
    {
     "data": {
      "image/png": "[encoded data removed]",
      "text/plain": [
       "<Figure size 1000x800 with 2 Axes>"
      ]
     },
     "metadata": {},
     "output_type": "display_data"
    }
   ],
   "source": [
    "# Create two vertical subplots sharing 15% and 85% of plot space\n",
    "# sharex allows sharing of axes i.e. building multiple plots on same axes\n",
    "fig, (ax, ax2) = plt.subplots(2, sharex=True, gridspec_kw={\"height_ratios\": (.15, .85)}, figsize = (10,8) )\n",
    "\n",
    "sns.histplot(df.Height,\n",
    "             linewidth=2,\n",
    "             edgecolor=\"r\",\n",
    "             alpha=0.4,\n",
    "             color=\"w\",\n",
    "             label=\"Histogram\",\n",
    "             stat=\"density\",\n",
    "             ax=ax2)\n",
    "\n",
    "\n",
    "sns.kdeplot(df.Height,\n",
    "           linewidth=3,\n",
    "           color=\"b\",\n",
    "           alpha=0.7,\n",
    "           label=\"Kernel Density Estimation Plot\",\n",
    "           ax=ax2)\n",
    "\n",
    "mean = df.Height.mean()\n",
    "std = df.Height.std()\n",
    "parametric_dist = stats.norm(loc=mean, scale=std)\n",
    "x = np.linspace(parametric_dist.ppf(0.01), parametric_dist.ppf(0.99), 100)\n",
    "\n",
    "ax2.plot(x,\n",
    "         parametric_dist.pdf(x),\n",
    "            color=\"g\",\n",
    "            alpha=0.7,\n",
    "            linewidth=3,\n",
    "            label=\"Parametric Fit\")\n",
    "\n",
    "ax2.set_title('Density Estimations')\n",
    "\n",
    "sns.boxplot(x=df.Height, ax = ax,color = 'red')\n",
    "ax.set_title('Box and Whiskers Plot')\n",
    "ax2.set(ylim=(0, 0.08))\n",
    "plt.ylim(0, 0.11)\n",
    "plt.legend();"
   ]
  },
  {
   "cell_type": "markdown",
   "id": "eab680d2",
   "metadata": {},
   "source": [
    "# Interpolation (reading assgnt)"
   ]
  }
 ],
 "metadata": {
  "kernelspec": {
   "display_name": "base",
   "language": "python",
   "name": "python3"
  },
  "language_info": {
   "codemirror_mode": {
    "name": "ipython",
    "version": 3
   },
   "file_extension": ".py",
   "mimetype": "text/x-python",
   "name": "python",
   "nbconvert_exporter": "python",
   "pygments_lexer": "ipython3",
   "version": "3.12.7"
  }
 },
 "nbformat": 4,
 "nbformat_minor": 5
}
