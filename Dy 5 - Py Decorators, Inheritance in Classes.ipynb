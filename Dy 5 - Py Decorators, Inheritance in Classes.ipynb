{
 "cells": [
  {
   "cell_type": "markdown",
   "id": "469b6220",
   "metadata": {},
   "source": [
    "#### DECORATORS\n",
    "- A function that takes another function and adds a behavior to it"
   ]
  },
  {
   "cell_type": "code",
   "execution_count": 1,
   "id": "6cb573b8",
   "metadata": {},
   "outputs": [],
   "source": [
    "def logger (func): #logger is the decorator, outer function\n",
    "    def wrapper():\n",
    "        print (\"Function is being called ...\")\n",
    "        func()\n",
    "    return wrapper"
   ]
  },
  {
   "cell_type": "code",
   "execution_count": 2,
   "id": "5e7aa163",
   "metadata": {},
   "outputs": [
    {
     "name": "stdout",
     "output_type": "stream",
     "text": [
      "Function is being called ...\n",
      "Hello!\n"
     ]
    }
   ],
   "source": [
    "@logger\n",
    "def say_hello():\n",
    "    print (\"Hello!\")\n",
    "\n",
    "say_hello()"
   ]
  },
  {
   "cell_type": "markdown",
   "id": "9d6780a7",
   "metadata": {},
   "source": [
    "#### INHERITANCE IN CLASSES"
   ]
  },
  {
   "cell_type": "code",
   "execution_count": null,
   "id": "477960d9",
   "metadata": {},
   "outputs": [],
   "source": [
    "class Animal: #parent class\n",
    "    def __init__ (self, name):\n",
    "        self.name = name\n",
    "\n",
    "    def speak(self):\n",
    "        return f\"{self.name} makes a sound\""
   ]
  },
  {
   "cell_type": "code",
   "execution_count": null,
   "id": "b3c67266",
   "metadata": {},
   "outputs": [],
   "source": [
    "class Dog (Animal): #dog is the sub class/ child class\n",
    "    def speak (self):\n",
    "        return f\"{self.name} says Woof!\""
   ]
  },
  {
   "cell_type": "code",
   "execution_count": 5,
   "id": "50e96699",
   "metadata": {},
   "outputs": [
    {
     "data": {
      "text/plain": [
       "'Buddy says Woof!'"
      ]
     },
     "execution_count": 5,
     "metadata": {},
     "output_type": "execute_result"
    }
   ],
   "source": [
    "dog_1 = Dog(\"Buddy\")\n",
    "dog_1.speak()"
   ]
  },
  {
   "cell_type": "code",
   "execution_count": 6,
   "id": "658bb7b5",
   "metadata": {},
   "outputs": [],
   "source": [
    "class Cat (Animal):\n",
    "    def speak (self):\n",
    "        return f\"{self.name} says Meow!\""
   ]
  },
  {
   "cell_type": "code",
   "execution_count": 7,
   "id": "ba3ab8a2",
   "metadata": {},
   "outputs": [
    {
     "data": {
      "text/plain": [
       "'Boris says Meow!'"
      ]
     },
     "execution_count": 7,
     "metadata": {},
     "output_type": "execute_result"
    }
   ],
   "source": [
    "cat_1 = Cat(\"Boris\")\n",
    "cat_1.speak()"
   ]
  }
 ],
 "metadata": {
  "kernelspec": {
   "display_name": "base",
   "language": "python",
   "name": "python3"
  },
  "language_info": {
   "codemirror_mode": {
    "name": "ipython",
    "version": 3
   },
   "file_extension": ".py",
   "mimetype": "text/x-python",
   "name": "python",
   "nbconvert_exporter": "python",
   "pygments_lexer": "ipython3",
   "version": "3.12.7"
  }
 },
 "nbformat": 4,
 "nbformat_minor": 5
}
