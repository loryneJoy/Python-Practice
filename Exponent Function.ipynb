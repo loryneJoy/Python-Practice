{
 "cells": [
  {
   "cell_type": "code",
   "execution_count": null,
   "id": "b700d42c",
   "metadata": {},
   "outputs": [],
   "source": [
    "# Exponent function \n",
    "# Allows to take a certain number & raise it to a certain power\n",
    "\n",
    "print(2**3) # 2 to power 3\n",
    "\n"
   ]
  },
  {
   "cell_type": "code",
   "execution_count": 2,
   "id": "fb908708",
   "metadata": {},
   "outputs": [
    {
     "name": "stdout",
     "output_type": "stream",
     "text": [
      "9\n"
     ]
    }
   ],
   "source": [
    "#How to use a for loop to\n",
    "# create a function of our own\n",
    "\n",
    "# create a function\n",
    "def raise_to_power (base_num, pow_num):\n",
    "    result = 1 # variable\n",
    "    for index in range (pow_num):\n",
    "        result = result * base_num\n",
    "    return result\n",
    "\n",
    "print(raise_to_power(3,2))"
   ]
  }
 ],
 "metadata": {
  "kernelspec": {
   "display_name": "base",
   "language": "python",
   "name": "python3"
  },
  "language_info": {
   "codemirror_mode": {
    "name": "ipython",
    "version": 3
   },
   "file_extension": ".py",
   "mimetype": "text/x-python",
   "name": "python",
   "nbconvert_exporter": "python",
   "pygments_lexer": "ipython3",
   "version": "3.12.7"
  }
 },
 "nbformat": 4,
 "nbformat_minor": 5
}
