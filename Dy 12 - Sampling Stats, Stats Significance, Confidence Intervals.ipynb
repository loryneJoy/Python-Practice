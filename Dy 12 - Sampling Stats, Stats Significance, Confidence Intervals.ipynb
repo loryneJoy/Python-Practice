{
 "cells": [
  {
   "cell_type": "markdown",
   "id": "43d313f3",
   "metadata": {},
   "source": [
    "## Sampling Statistics\n",
    "\n",
    "\n",
    "## Confidence Intervals\n",
    "#### sample distribution\n",
    "\n",
    "\n",
    "#### sampling distribution\n",
    "the probability distribution a statistic can take. Also recall that, by the Central Limit Theorem, \n",
    "\n",
    "#"
   ]
  },
  {
   "cell_type": "code",
   "execution_count": 1,
   "id": "6eacd9c4",
   "metadata": {},
   "outputs": [],
   "source": [
    "# to investigate point estimates by generating a population of random age data \n",
    "# and then drawing a sample from it to estimate the mean:\n",
    "\n",
    "# Import necessary libraries\n",
    "import numpy as np\n",
    "import scipy as sp\n",
    "import pandas as pd\n",
    "import scipy.stats as stats\n",
    "import seaborn as sns\n",
    "import matplotlib.pyplot as plt\n",
    "import math\n",
    "\n",
    "# Plot styles\n",
    "plt.style.use('fivethirtyeight')\n",
    "%config InlineBackend.figure_format = 'retina'\n",
    "%matplotlib inline"
   ]
  },
  {
   "cell_type": "code",
   "execution_count": null,
   "id": "03a2f669",
   "metadata": {},
   "outputs": [],
   "source": [
    "# use a Poisson distribution to construct a bimodal distribution.\n",
    "np.random.seed(15)\n",
    "population_ages1 = stats.poisson.rvs(loc=18, mu=35, size=150000)\n",
    "population_ages2 = stats.poisson.rvs(loc=18, mu=10, size=100000)\n",
    "population_ages = np.concatenate((population_ages1, population_ages2))"
   ]
  },
  {
   "cell_type": "markdown",
   "id": "79a93282",
   "metadata": {},
   "source": [
    "## Statistical Significance\n"
   ]
  }
 ],
 "metadata": {
  "kernelspec": {
   "display_name": "base",
   "language": "python",
   "name": "python3"
  },
  "language_info": {
   "codemirror_mode": {
    "name": "ipython",
    "version": 3
   },
   "file_extension": ".py",
   "mimetype": "text/x-python",
   "name": "python",
   "nbconvert_exporter": "python",
   "pygments_lexer": "ipython3",
   "version": "3.12.7"
  }
 },
 "nbformat": 4,
 "nbformat_minor": 5
}
