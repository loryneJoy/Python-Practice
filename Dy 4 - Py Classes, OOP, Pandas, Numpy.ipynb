{
 "cells": [
  {
   "cell_type": "markdown",
   "id": "d7d6b60b",
   "metadata": {},
   "source": [
    "#### CLASSES - OBJECT ORIENTED PROGRAMMING (OOP)\n",
    "#OBJECT - \n",
    "- CLASS - a blueprint for creating objects"
   ]
  },
  {
   "cell_type": "code",
   "execution_count": 1,
   "id": "fa4b7798",
   "metadata": {},
   "outputs": [],
   "source": [
    "class Person:\n",
    "    def __init__(self, name, age): #constructor method. self refers to object being made\n",
    "        self.name = name #attribute\n",
    "        self.age = age\n",
    "\n",
    "    def greet(self): #greet is a method \n",
    "        return f\"Hi. My name is {self.name} and I am {self.age} years old\""
   ]
  },
  {
   "cell_type": "code",
   "execution_count": 2,
   "id": "9575430b",
   "metadata": {},
   "outputs": [
    {
     "name": "stdout",
     "output_type": "stream",
     "text": [
      "Hi. My name is Wyc and I am 28 years old\n"
     ]
    }
   ],
   "source": [
    "# to initialise the class:\n",
    "person_1 = Person(\"Wyc\", 28)\n",
    "print (person_1.greet())"
   ]
  },
  {
   "cell_type": "code",
   "execution_count": 3,
   "id": "2010806a",
   "metadata": {},
   "outputs": [],
   "source": [
    "class Dog:\n",
    "    def __init__(self, name, breed, age):\n",
    "        self.name = name\n",
    "        self.breed = breed\n",
    "        self.age = age\n",
    "\n",
    "    def bark(self):\n",
    "        return f\"Woof! My name is {self.name}. I'm a {self.breed} and I am {self.age} years old\""
   ]
  },
  {
   "cell_type": "code",
   "execution_count": 4,
   "id": "df494c1e",
   "metadata": {},
   "outputs": [
    {
     "name": "stdout",
     "output_type": "stream",
     "text": [
      "Woof! My name is Ben. I'm a huskie and I am 10 years old\n"
     ]
    }
   ],
   "source": [
    "dog_1 = Dog (\"Ben\",\"huskie\", 10)\n",
    "print (dog_1.bark())"
   ]
  },
  {
   "cell_type": "code",
   "execution_count": 5,
   "id": "2dcbc667",
   "metadata": {},
   "outputs": [
    {
     "name": "stdout",
     "output_type": "stream",
     "text": [
      "Woof! My name is Bosco. I'm a german shepherd and I am 13 years old\n"
     ]
    }
   ],
   "source": [
    "dog_2 = Dog (\"Bosco\", \"german shepherd\", 13)\n",
    "print (dog_2.bark())"
   ]
  },
  {
   "cell_type": "code",
   "execution_count": 6,
   "id": "3432b773",
   "metadata": {},
   "outputs": [],
   "source": [
    "#To construct a rectangle:\n",
    "class Rectangle:\n",
    "    def __init__(self, length, width):\n",
    "        self.length = length\n",
    "        self.width = width\n",
    "\n",
    "    def area(self):\n",
    "        area = self.length * self.width\n",
    "        return f\"Area of rectangle is {area} m2\""
   ]
  },
  {
   "cell_type": "code",
   "execution_count": 7,
   "id": "ea45ff95",
   "metadata": {},
   "outputs": [
    {
     "name": "stdout",
     "output_type": "stream",
     "text": [
      "Area of rectangle is 420 m2\n"
     ]
    }
   ],
   "source": [
    "area1 = Rectangle (35, 12)\n",
    "print(area1.area())"
   ]
  },
  {
   "cell_type": "code",
   "execution_count": 8,
   "id": "41aaad87",
   "metadata": {},
   "outputs": [],
   "source": [
    "# To get area of a circle:\n",
    "class Circle:\n",
    "    def __init__(self, radius):\n",
    "        self.radius = radius\n",
    "\n",
    "# area of circle:\n",
    "    def area (self):\n",
    "        area = 22/7 * (self.radius ** 2)\n",
    "        return f\"Area of circle is {area}\"\n",
    "    \n",
    "    #perimeter of circle:\n",
    "    def perimeter (self):\n",
    "        perimeter = 2 * 22/7 * (self.radius **2)\n",
    "        return f\"perimeter of circle is {perimeter}\""
   ]
  },
  {
   "cell_type": "code",
   "execution_count": 9,
   "id": "5890b19a",
   "metadata": {},
   "outputs": [
    {
     "name": "stdout",
     "output_type": "stream",
     "text": [
      "Area of circle is 616.0\n",
      "perimeter of circle is 1232.0\n"
     ]
    }
   ],
   "source": [
    "circle_1 = Circle (14)\n",
    "print (circle_1.area())\n",
    "\n",
    "print (circle_1.perimeter())"
   ]
  },
  {
   "cell_type": "code",
   "execution_count": 10,
   "id": "92c4f845",
   "metadata": {},
   "outputs": [
    {
     "data": {
      "text/html": [
       "E = mc<sup>2</sup"
      ],
      "text/plain": [
       "<IPython.core.display.HTML object>"
      ]
     },
     "metadata": {},
     "output_type": "display_data"
    }
   ],
   "source": [
    "from IPython.display import display, HTML\n",
    "\n",
    "display(HTML(\"E = mc<sup>2</sup\"))"
   ]
  },
  {
   "cell_type": "markdown",
   "id": "95d1e12a",
   "metadata": {},
   "source": [
    "#### PANDAS AND NUMPY\n",
    "- PANDA - A python library for data analytics with 2 data structures:\n",
    "1. series - a column\n",
    "2. Data frame - a table with rows and columns"
   ]
  },
  {
   "cell_type": "code",
   "execution_count": 11,
   "id": "de354049",
   "metadata": {},
   "outputs": [
    {
     "data": {
      "text/html": [
       "<div>\n",
       "<style scoped>\n",
       "    .dataframe tbody tr th:only-of-type {\n",
       "        vertical-align: middle;\n",
       "    }\n",
       "\n",
       "    .dataframe tbody tr th {\n",
       "        vertical-align: top;\n",
       "    }\n",
       "\n",
       "    .dataframe thead th {\n",
       "        text-align: right;\n",
       "    }\n",
       "</style>\n",
       "<table border=\"1\" class=\"dataframe\">\n",
       "  <thead>\n",
       "    <tr style=\"text-align: right;\">\n",
       "      <th></th>\n",
       "      <th>Product</th>\n",
       "      <th>Current price</th>\n",
       "      <th>old price</th>\n",
       "      <th>Discount</th>\n",
       "      <th>Review</th>\n",
       "      <th>Ratingd</th>\n",
       "    </tr>\n",
       "  </thead>\n",
       "  <tbody>\n",
       "    <tr>\n",
       "      <th>0</th>\n",
       "      <td>115  Piece Set Of Multifunctional Precision Sc...</td>\n",
       "      <td>KSh 950</td>\n",
       "      <td>KSh 1,525</td>\n",
       "      <td>38%</td>\n",
       "      <td>(2)</td>\n",
       "      <td>4.5 out of 5</td>\n",
       "    </tr>\n",
       "    <tr>\n",
       "      <th>1</th>\n",
       "      <td>Metal Decorative Hooks Key Hangers Entryway Wa...</td>\n",
       "      <td>KSh 527</td>\n",
       "      <td>KSh 999</td>\n",
       "      <td>47%</td>\n",
       "      <td>(14)</td>\n",
       "      <td>4.1 out of 5</td>\n",
       "    </tr>\n",
       "    <tr>\n",
       "      <th>2</th>\n",
       "      <td>Portable Mini Cordless Car Vacuum Cleaner - Blue</td>\n",
       "      <td>KSh 2,199</td>\n",
       "      <td>KSh 2,923</td>\n",
       "      <td>25%</td>\n",
       "      <td>(24)</td>\n",
       "      <td>4.6 out of 5</td>\n",
       "    </tr>\n",
       "    <tr>\n",
       "      <th>3</th>\n",
       "      <td>Weighing Scale Digital Bathroom Body Fat Scale...</td>\n",
       "      <td>KSh 1,580</td>\n",
       "      <td>KSh 2,499</td>\n",
       "      <td>37%</td>\n",
       "      <td>(7)</td>\n",
       "      <td>4.7 out of 5</td>\n",
       "    </tr>\n",
       "    <tr>\n",
       "      <th>4</th>\n",
       "      <td>Portable Home Small Air Humidifier 3-Speed Fan...</td>\n",
       "      <td>KSh 1,740</td>\n",
       "      <td>KSh 2,356</td>\n",
       "      <td>26%</td>\n",
       "      <td>(5)</td>\n",
       "      <td>4.8 out of 5</td>\n",
       "    </tr>\n",
       "  </tbody>\n",
       "</table>\n",
       "</div>"
      ],
      "text/plain": [
       "                                             Product Current price  old price  \\\n",
       "0  115  Piece Set Of Multifunctional Precision Sc...       KSh 950  KSh 1,525   \n",
       "1  Metal Decorative Hooks Key Hangers Entryway Wa...       KSh 527    KSh 999   \n",
       "2   Portable Mini Cordless Car Vacuum Cleaner - Blue     KSh 2,199  KSh 2,923   \n",
       "3  Weighing Scale Digital Bathroom Body Fat Scale...     KSh 1,580  KSh 2,499   \n",
       "4  Portable Home Small Air Humidifier 3-Speed Fan...     KSh 1,740  KSh 2,356   \n",
       "\n",
       "  Discount Review       Ratingd  \n",
       "0      38%    (2)  4.5 out of 5  \n",
       "1      47%   (14)  4.1 out of 5  \n",
       "2      25%   (24)  4.6 out of 5  \n",
       "3      37%    (7)  4.7 out of 5  \n",
       "4      26%    (5)  4.8 out of 5  "
      ]
     },
     "execution_count": 11,
     "metadata": {},
     "output_type": "execute_result"
    }
   ],
   "source": [
    "import pandas as pd\n",
    "df = pd.read_csv(r\"Excel_jumia.csv\")\n",
    "\n",
    "df.head() # head gives first 5 rows"
   ]
  },
  {
   "cell_type": "code",
   "execution_count": 12,
   "id": "de0c3437",
   "metadata": {},
   "outputs": [
    {
     "data": {
      "text/html": [
       "<div>\n",
       "<style scoped>\n",
       "    .dataframe tbody tr th:only-of-type {\n",
       "        vertical-align: middle;\n",
       "    }\n",
       "\n",
       "    .dataframe tbody tr th {\n",
       "        vertical-align: top;\n",
       "    }\n",
       "\n",
       "    .dataframe thead th {\n",
       "        text-align: right;\n",
       "    }\n",
       "</style>\n",
       "<table border=\"1\" class=\"dataframe\">\n",
       "  <thead>\n",
       "    <tr style=\"text-align: right;\">\n",
       "      <th></th>\n",
       "      <th>Product</th>\n",
       "      <th>Current price</th>\n",
       "      <th>old price</th>\n",
       "      <th>Discount</th>\n",
       "      <th>Review</th>\n",
       "      <th>Ratingd</th>\n",
       "    </tr>\n",
       "  </thead>\n",
       "  <tbody>\n",
       "    <tr>\n",
       "      <th>110</th>\n",
       "      <td>Shower Nozzle Cleaning Unclogging Needle Mini ...</td>\n",
       "      <td>KSh 1,658</td>\n",
       "      <td>KSh 1,699</td>\n",
       "      <td>2%</td>\n",
       "      <td>NaN</td>\n",
       "      <td>NaN</td>\n",
       "    </tr>\n",
       "    <tr>\n",
       "      <th>111</th>\n",
       "      <td>Thickening Multipurpose Non Stick Easy To Clea...</td>\n",
       "      <td>KSh 1,768</td>\n",
       "      <td>KSh 1,799</td>\n",
       "      <td>2%</td>\n",
       "      <td>NaN</td>\n",
       "      <td>NaN</td>\n",
       "    </tr>\n",
       "    <tr>\n",
       "      <th>112</th>\n",
       "      <td>6 In 1 Bottle Can Opener Multifunctional Easy ...</td>\n",
       "      <td>KSh 199</td>\n",
       "      <td>KSh 553</td>\n",
       "      <td>64%</td>\n",
       "      <td>NaN</td>\n",
       "      <td>NaN</td>\n",
       "    </tr>\n",
       "    <tr>\n",
       "      <th>113</th>\n",
       "      <td>Wall-mounted Sticker Punch-free Plug Fixer</td>\n",
       "      <td>KSh 450</td>\n",
       "      <td>KSh 900</td>\n",
       "      <td>50%</td>\n",
       "      <td>(1)</td>\n",
       "      <td>2 out of 5</td>\n",
       "    </tr>\n",
       "    <tr>\n",
       "      <th>114</th>\n",
       "      <td>Black Simple Water Cup Wine Coaster Anti Slip ...</td>\n",
       "      <td>KSh 169</td>\n",
       "      <td>KSh 320</td>\n",
       "      <td>47%</td>\n",
       "      <td>NaN</td>\n",
       "      <td>NaN</td>\n",
       "    </tr>\n",
       "  </tbody>\n",
       "</table>\n",
       "</div>"
      ],
      "text/plain": [
       "                                               Product Current price  \\\n",
       "110  Shower Nozzle Cleaning Unclogging Needle Mini ...     KSh 1,658   \n",
       "111  Thickening Multipurpose Non Stick Easy To Clea...     KSh 1,768   \n",
       "112  6 In 1 Bottle Can Opener Multifunctional Easy ...       KSh 199   \n",
       "113         Wall-mounted Sticker Punch-free Plug Fixer       KSh 450   \n",
       "114  Black Simple Water Cup Wine Coaster Anti Slip ...       KSh 169   \n",
       "\n",
       "     old price Discount Review     Ratingd  \n",
       "110  KSh 1,699       2%    NaN         NaN  \n",
       "111  KSh 1,799       2%    NaN         NaN  \n",
       "112    KSh 553      64%    NaN         NaN  \n",
       "113    KSh 900      50%    (1)  2 out of 5  \n",
       "114    KSh 320      47%    NaN         NaN  "
      ]
     },
     "execution_count": 12,
     "metadata": {},
     "output_type": "execute_result"
    }
   ],
   "source": [
    "df.tail() # tail gives last 5 rows"
   ]
  },
  {
   "cell_type": "code",
   "execution_count": 13,
   "id": "fddc990a",
   "metadata": {},
   "outputs": [
    {
     "data": {
      "text/plain": [
       "(115, 6)"
      ]
     },
     "execution_count": 13,
     "metadata": {},
     "output_type": "execute_result"
    }
   ],
   "source": [
    "# to see number of rows & columns in data using panda:\n",
    "df.shape"
   ]
  },
  {
   "cell_type": "code",
   "execution_count": 14,
   "id": "b2aa53b3",
   "metadata": {},
   "outputs": [
    {
     "name": "stdout",
     "output_type": "stream",
     "text": [
      "<class 'pandas.core.frame.DataFrame'>\n",
      "RangeIndex: 115 entries, 0 to 114\n",
      "Data columns (total 6 columns):\n",
      " #   Column         Non-Null Count  Dtype \n",
      "---  ------         --------------  ----- \n",
      " 0   Product        115 non-null    object\n",
      " 1   Current price  115 non-null    object\n",
      " 2   old price      115 non-null    object\n",
      " 3   Discount       115 non-null    object\n",
      " 4   Review         57 non-null     object\n",
      " 5   Ratingd        57 non-null     object\n",
      "dtypes: object(6)\n",
      "memory usage: 5.5+ KB\n"
     ]
    }
   ],
   "source": [
    "# to get detailed information about the data set:\n",
    "df.info()"
   ]
  },
  {
   "cell_type": "code",
   "execution_count": 15,
   "id": "d8ef2d12",
   "metadata": {},
   "outputs": [
    {
     "data": {
      "text/plain": [
       "Product           0\n",
       "Current price     0\n",
       "old price         0\n",
       "Discount          0\n",
       "Review           58\n",
       "Ratingd          58\n",
       "dtype: int64"
      ]
     },
     "execution_count": 15,
     "metadata": {},
     "output_type": "execute_result"
    }
   ],
   "source": [
    "#checking for null values:\n",
    "df.isnull().sum()"
   ]
  },
  {
   "cell_type": "code",
   "execution_count": 16,
   "id": "7072c136",
   "metadata": {},
   "outputs": [
    {
     "name": "stdout",
     "output_type": "stream",
     "text": [
      "<class 'pandas.core.frame.DataFrame'>\n",
      "RangeIndex: 115 entries, 0 to 114\n",
      "Data columns (total 6 columns):\n",
      " #   Column         Non-Null Count  Dtype \n",
      "---  ------         --------------  ----- \n",
      " 0   Product        115 non-null    object\n",
      " 1   Current price  115 non-null    object\n",
      " 2   old price      115 non-null    object\n",
      " 3   Discount       115 non-null    object\n",
      " 4   Review         115 non-null    object\n",
      " 5   Ratingd        115 non-null    object\n",
      "dtypes: object(6)\n",
      "memory usage: 5.5+ KB\n"
     ]
    }
   ],
   "source": [
    "#to fill missing values:\n",
    "df[\"Review\"]= df[\"Review\"].fillna(\"unknown\")\n",
    "df[\"Ratingd\"]= df[\"Ratingd\"].fillna(\"unknown\")\n",
    "df.info()"
   ]
  },
  {
   "cell_type": "code",
   "execution_count": null,
   "id": "7d70f4a6",
   "metadata": {},
   "outputs": [],
   "source": [
    "# to drop missing values:\n",
    "df = df.dropna() #dropna drops all rows with missing values"
   ]
  },
  {
   "cell_type": "code",
   "execution_count": null,
   "id": "ca216ed7",
   "metadata": {},
   "outputs": [],
   "source": [
    "# TO SUMMARISE DATA(group): ASSIGNMENT:\n",
    "# convert object to numerical figures \n",
    "# group product by the average current price"
   ]
  },
  {
   "cell_type": "markdown",
   "id": "d38b5540",
   "metadata": {},
   "source": [
    "#### NUMPY (Numerical Python)\n",
    "- Performs numerical operations on python\n",
    "- Provides high performance array object\n",
    "- NumPy Array - stores data & performs calculations, converts a list to an array\n",
    "- Python List - stores data, no calculations"
   ]
  },
  {
   "cell_type": "code",
   "execution_count": 19,
   "id": "2067f445",
   "metadata": {},
   "outputs": [
    {
     "name": "stdout",
     "output_type": "stream",
     "text": [
      "[1 2 3 4 5]\n"
     ]
    }
   ],
   "source": [
    "num = [1,2,3,4,5]\n",
    "import numpy as np\n",
    "\n",
    "arr = np.array(num)\n",
    "print (arr)"
   ]
  },
  {
   "cell_type": "code",
   "execution_count": 20,
   "id": "f543bf3c",
   "metadata": {},
   "outputs": [
    {
     "name": "stdout",
     "output_type": "stream",
     "text": [
      "3.0\n"
     ]
    }
   ],
   "source": [
    "#to get mean:\n",
    "print (arr.mean())"
   ]
  },
  {
   "cell_type": "code",
   "execution_count": 21,
   "id": "2ca7cf09",
   "metadata": {},
   "outputs": [
    {
     "name": "stdout",
     "output_type": "stream",
     "text": [
      "1.4142135623730951\n"
     ]
    }
   ],
   "source": [
    "# for standard deviation:\n",
    "print (arr.std())"
   ]
  },
  {
   "cell_type": "code",
   "execution_count": 22,
   "id": "521be05f",
   "metadata": {},
   "outputs": [
    {
     "name": "stdout",
     "output_type": "stream",
     "text": [
      "2.0\n"
     ]
    }
   ],
   "source": [
    "# for variance:\n",
    "print (arr.var())"
   ]
  }
 ],
 "metadata": {
  "kernelspec": {
   "display_name": "base",
   "language": "python",
   "name": "python3"
  },
  "language_info": {
   "codemirror_mode": {
    "name": "ipython",
    "version": 3
   },
   "file_extension": ".py",
   "mimetype": "text/x-python",
   "name": "python",
   "nbconvert_exporter": "python",
   "pygments_lexer": "ipython3",
   "version": "3.12.7"
  }
 },
 "nbformat": 4,
 "nbformat_minor": 5
}
