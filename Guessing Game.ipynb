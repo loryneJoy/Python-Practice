{
 "cells": [
  {
   "cell_type": "code",
   "execution_count": 2,
   "id": "69773d9d",
   "metadata": {},
   "outputs": [
    {
     "name": "stdout",
     "output_type": "stream",
     "text": [
      "You win!\n"
     ]
    }
   ],
   "source": [
    "# using if statement, while loops, etc\n",
    "# have a secret word stored in the program.\n",
    "# User has to keep guessing till gets it correct\n",
    "\n",
    "#create variable to store secret word\n",
    "secret_word = \"giraffe\"\n",
    "\n",
    "#create a variable to store user's guesses\n",
    "guess = \"\" # empty string\n",
    "\n",
    "#to continually ask user question till they guess it right\n",
    "while guess != secret_word:\n",
    "    guess = input (\"Enter guess: \")\n",
    "\n",
    "#response to when user guesses correctly\n",
    "print (\"You win!\")"
   ]
  },
  {
   "cell_type": "code",
   "execution_count": 3,
   "id": "0a58c83e",
   "metadata": {},
   "outputs": [
    {
     "name": "stdout",
     "output_type": "stream",
     "text": [
      "Out of Guesses, YOU LOSE! \n"
     ]
    }
   ],
   "source": [
    "# game but with a limit of 3 trials guesses:\n",
    "secret_word = \"giraffe\"\n",
    "\n",
    "guess = \"\" \n",
    "guess_count = 0\n",
    "guess_limit = 3\n",
    "out_of_guesses = False\n",
    "\n",
    "\n",
    "while guess != secret_word and not (out_of_guesses):\n",
    "    if guess_count < guess_limit:\n",
    "        guess = input (\"Enter guess: \")\n",
    "        guess_count += 1\n",
    "    else:\n",
    "        out_of_guesses = True\n",
    "\n",
    "\n",
    "if out_of_guesses:\n",
    "    print (\"Out of Guesses, YOU LOSE! \")\n",
    "else:\n",
    "    print (\"YOU WIN\")"
   ]
  }
 ],
 "metadata": {
  "kernelspec": {
   "display_name": "base",
   "language": "python",
   "name": "python3"
  },
  "language_info": {
   "codemirror_mode": {
    "name": "ipython",
    "version": 3
   },
   "file_extension": ".py",
   "mimetype": "text/x-python",
   "name": "python",
   "nbconvert_exporter": "python",
   "pygments_lexer": "ipython3",
   "version": "3.12.7"
  }
 },
 "nbformat": 4,
 "nbformat_minor": 5
}
