{
 "cells": [
  {
   "cell_type": "code",
   "execution_count": null,
   "id": "744dc3d9",
   "metadata": {},
   "outputs": [],
   "source": [
    "#allows looping over different collections in python\n",
    "# "
   ]
  },
  {
   "cell_type": "code",
   "execution_count": 1,
   "id": "640135e8",
   "metadata": {},
   "outputs": [
    {
     "name": "stdout",
     "output_type": "stream",
     "text": [
      "L\n",
      "o\n",
      "r\n",
      "y\n",
      "n\n",
      "e\n",
      " \n",
      "A\n",
      "c\n",
      "a\n",
      "d\n",
      "e\n",
      "m\n",
      "y\n"
     ]
    }
   ],
   "source": [
    "for letter in \"Loryne Academy\": #means for every letter inside my academy, do sth\n",
    "    print (letter)"
   ]
  },
  {
   "cell_type": "code",
   "execution_count": 2,
   "id": "edaf52a2",
   "metadata": {},
   "outputs": [
    {
     "name": "stdout",
     "output_type": "stream",
     "text": [
      "Costo\n",
      "Mandra\n",
      "Ryce\n"
     ]
    }
   ],
   "source": [
    "friends = [\"Costo\", \"Mandra\", \"Ryce\"] #array\n",
    "for friend in friends:\n",
    "    print (friend)"
   ]
  },
  {
   "cell_type": "code",
   "execution_count": 7,
   "id": "d38496b4",
   "metadata": {},
   "outputs": [
    {
     "name": "stdout",
     "output_type": "stream",
     "text": [
      "God\n",
      "Jesus\n",
      "Holy Spirit\n"
     ]
    }
   ],
   "source": [
    "trinity = [\"God\", \"Jesus\", \"Holy Spirit\"]\n",
    "\n",
    "for names_of_God in range(len(trinity)):\n",
    "    print(trinity[names_of_God])"
   ]
  },
  {
   "cell_type": "code",
   "execution_count": null,
   "id": "1c0e418e",
   "metadata": {},
   "outputs": [
    {
     "name": "stdout",
     "output_type": "stream",
     "text": [
      "3\n",
      "4\n",
      "5\n",
      "6\n",
      "7\n",
      "8\n",
      "9\n"
     ]
    }
   ],
   "source": [
    "friends = [\"Jim\", \"Karen\", \"Kevin\"]\n",
    "for index in range (3, 10): #prints no btwn 3 and 10, not including 10\n",
    "    print (index)"
   ]
  },
  {
   "cell_type": "code",
   "execution_count": 5,
   "id": "bde717d3",
   "metadata": {},
   "outputs": [
    {
     "name": "stdout",
     "output_type": "stream",
     "text": [
      "Jim\n",
      "Karen\n",
      "Kevin\n"
     ]
    }
   ],
   "source": [
    "# range can be used to loop through an array\n",
    "friends = [\"Jim\", \"Karen\", \"Kevin\"]\n",
    "for index in range(len(friends)):\n",
    "    print (friends[index])"
   ]
  },
  {
   "cell_type": "code",
   "execution_count": 6,
   "id": "7625f3d6",
   "metadata": {},
   "outputs": [
    {
     "name": "stdout",
     "output_type": "stream",
     "text": [
      "first iteration\n",
      "not first\n",
      "not first\n",
      "not first\n",
      "not first\n"
     ]
    }
   ],
   "source": [
    "friends = [\"Jim\", \"Karen\", \"Kevin\"]\n",
    "\n",
    "for index in range(5):\n",
    "    if index == 0:\n",
    "        print (\"first iteration\")\n",
    "    else:\n",
    "        print(\"not first\")"
   ]
  },
  {
   "cell_type": "code",
   "execution_count": 7,
   "id": "8e4966ee",
   "metadata": {},
   "outputs": [
    {
     "name": "stdout",
     "output_type": "stream",
     "text": [
      "9\n"
     ]
    }
   ],
   "source": [
    "#How to use a for loop to\n",
    "# create a function of our own\n",
    "\n",
    "# create a function\n",
    "def raise_to_power (base_num, pow_num):\n",
    "    result = 1 # variable\n",
    "    for index in range (pow_num):\n",
    "        result = result * base_num\n",
    "    return result\n",
    "\n",
    "print(raise_to_power(3,2))"
   ]
  }
 ],
 "metadata": {
  "kernelspec": {
   "display_name": "base",
   "language": "python",
   "name": "python3"
  },
  "language_info": {
   "codemirror_mode": {
    "name": "ipython",
    "version": 3
   },
   "file_extension": ".py",
   "mimetype": "text/x-python",
   "name": "python",
   "nbconvert_exporter": "python",
   "pygments_lexer": "ipython3",
   "version": "3.12.7"
  }
 },
 "nbformat": 4,
 "nbformat_minor": 5
}
