{
 "cells": [
  {
   "cell_type": "markdown",
   "id": "3a1d9675",
   "metadata": {},
   "source": [
    "# Permutations and Factorials\n",
    "## Permutations\n",
    "the number of permutations with n distinct objects is n!, or the factorial of n.\n",
    "\n",
    "### 1. Permutations of a Subset\n"
   ]
  },
  {
   "cell_type": "code",
   "execution_count": 3,
   "id": "33405384",
   "metadata": {},
   "outputs": [
    {
     "name": "stdout",
     "output_type": "stream",
     "text": [
      "336.0\n"
     ]
    }
   ],
   "source": [
    "n = 8\n",
    "k = 3\n",
    "x = 5\n",
    "y = (8*7*6*5*4*3*2*1)/(5*4*3*2*1)\n",
    "print (y)"
   ]
  },
  {
   "cell_type": "markdown",
   "id": "d1825e01",
   "metadata": {},
   "source": [
    "### 2. Permutations with Replacement\n",
    "\n",
    "\n",
    "### 3. Permutations with Repetition\n",
    " some elements may be repeated.\n",
    " example is using permutations on words. Let's say you have the letters of the word \"TENNESSEE\". How many different words can you create using these letters?\n",
    "\n",
    " The solution is to divide 9! by the factorials for each letter that is repeated!\n",
    "\n",
    "The answer here is then (9 letters, 4 x E, 2 x N, 2 x S)"
   ]
  },
  {
   "cell_type": "code",
   "execution_count": 6,
   "id": "04c17f3a",
   "metadata": {},
   "outputs": [
    {
     "name": "stdout",
     "output_type": "stream",
     "text": [
      "3780.0\n"
     ]
    }
   ],
   "source": [
    "#How many different words can you create using these letters?\n",
    "t = 9\n",
    "\n",
    "x = (9*8*7*6*5*4*3*2*1)/((4*3*2*1)*(2*1)*(2*1))\n",
    "print(x)"
   ]
  },
  {
   "cell_type": "code",
   "execution_count": 2,
   "id": "9ba223d8",
   "metadata": {},
   "outputs": [],
   "source": [
    "import math\n",
    "t = math.factorial (9)\n"
   ]
  },
  {
   "cell_type": "code",
   "execution_count": 3,
   "id": "d5286b23",
   "metadata": {},
   "outputs": [
    {
     "name": "stdout",
     "output_type": "stream",
     "text": [
      "336.0\n"
     ]
    }
   ],
   "source": [
    "import math\n",
    "n = math.factorial(8)\n",
    "k = math.factorial(8-3)\n",
    "ans = n/k\n",
    "print (ans)"
   ]
  },
  {
   "cell_type": "markdown",
   "id": "e1f99d74",
   "metadata": {},
   "source": [
    "# Combinations\n",
    "if order is not important,That's where combinations come in.\n",
    "combinations answer the question: \"How many ways can we create a subset k out of n objects?\". \n",
    "The subset is not ordered."
   ]
  },
  {
   "cell_type": "code",
   "execution_count": null,
   "id": "68b1245d",
   "metadata": {},
   "outputs": [
    {
     "name": "stdout",
     "output_type": "stream",
     "text": [
      "504.0\n"
     ]
    }
   ],
   "source": [
    "#Flatiron School is holding a mini mathematics contest and there are 9 people in the last round.\n",
    "# Imagine flatiron school is giving out bronze, silver, and gold medal respectively. \n",
    "# How many possible ways are there to create this top three? (permutations)\n",
    "x = math.factorial(9)\n",
    "y = math.factorial (6)\n",
    "k = x/y\n",
    "print (k)"
   ]
  },
  {
   "cell_type": "code",
   "execution_count": 6,
   "id": "a4457520",
   "metadata": {},
   "outputs": [
    {
     "name": "stdout",
     "output_type": "stream",
     "text": [
      "84\n"
     ]
    }
   ],
   "source": [
    "#Imagine Flatiron school granting the first three contestants a massive fruit basket. \n",
    "# How many ways of selecting three people are there in this case?(combinations)\n",
    "import math\n",
    "n = 9\n",
    "R = 3\n",
    "ans = math.comb (n, R)\n",
    "print (ans)"
   ]
  }
 ],
 "metadata": {
  "kernelspec": {
   "display_name": "base",
   "language": "python",
   "name": "python3"
  },
  "language_info": {
   "codemirror_mode": {
    "name": "ipython",
    "version": 3
   },
   "file_extension": ".py",
   "mimetype": "text/x-python",
   "name": "python",
   "nbconvert_exporter": "python",
   "pygments_lexer": "ipython3",
   "version": "3.12.7"
  }
 },
 "nbformat": 4,
 "nbformat_minor": 5
}
