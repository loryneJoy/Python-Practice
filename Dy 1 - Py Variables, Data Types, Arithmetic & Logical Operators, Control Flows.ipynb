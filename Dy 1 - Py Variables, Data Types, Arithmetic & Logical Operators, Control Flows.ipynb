{
 "cells": [
  {
   "cell_type": "code",
   "execution_count": 1,
   "id": "0dd900ba",
   "metadata": {},
   "outputs": [
    {
     "name": "stdout",
     "output_type": "stream",
     "text": [
      "5\n"
     ]
    }
   ],
   "source": [
    "days = 5\n",
    "print (days)"
   ]
  },
  {
   "cell_type": "markdown",
   "id": "fa89fe38",
   "metadata": {},
   "source": [
    "#### variables \n",
    "- variables store value"
   ]
  },
  {
   "cell_type": "code",
   "execution_count": 2,
   "id": "46f25422",
   "metadata": {},
   "outputs": [
    {
     "name": "stdout",
     "output_type": "stream",
     "text": [
      "Hello World\n"
     ]
    }
   ],
   "source": [
    "greetings = \"Hello World\" \n",
    "print (greetings)"
   ]
  },
  {
   "cell_type": "code",
   "execution_count": 3,
   "id": "12584387",
   "metadata": {},
   "outputs": [
    {
     "name": "stdout",
     "output_type": "stream",
     "text": [
      "Author\n"
     ]
    }
   ],
   "source": [
    "Ngugi = \"Author\"\n",
    "print (Ngugi)"
   ]
  },
  {
   "cell_type": "code",
   "execution_count": 4,
   "id": "11c2ab6b",
   "metadata": {},
   "outputs": [
    {
     "name": "stdout",
     "output_type": "stream",
     "text": [
      "14\n"
     ]
    }
   ],
   "source": [
    "x = 5\n",
    "y = 9\n",
    "print (x + y)"
   ]
  },
  {
   "cell_type": "markdown",
   "id": "13db896d",
   "metadata": {},
   "source": [
    "#### Data Types\n",
    "- Include: string str(), int(), float (), boolean bool(), datetime() \n",
    "- Python uses Dynamic typing, meaning you don't need to declare a variable type in advance\n",
    "- Reading Assgt: Identify different datatypes in Python & their methods"
   ]
  },
  {
   "cell_type": "markdown",
   "id": "9c2c8abc",
   "metadata": {},
   "source": [
    "#### Input / output\n",
    "- input () gets user input\n",
    "- print () displays input"
   ]
  },
  {
   "cell_type": "code",
   "execution_count": 5,
   "id": "8b1088c7",
   "metadata": {},
   "outputs": [
    {
     "name": "stdout",
     "output_type": "stream",
     "text": [
      "You are 28 years old\n"
     ]
    }
   ],
   "source": [
    "year = int(input(\"What year were you born?\")) #python expects an integer as the input\n",
    "age = 2025 - year \n",
    "print (f\"You are {age} years old\") # f allows to print multiple data types in same output"
   ]
  },
  {
   "cell_type": "code",
   "execution_count": 6,
   "id": "53d7c1bb",
   "metadata": {},
   "outputs": [
    {
     "name": "stdout",
     "output_type": "stream",
     "text": [
      "Thank You\n"
     ]
    }
   ],
   "source": [
    "greet = str(input(\"Hi. How are you today?\"))\n",
    "print (\"Thank You\")"
   ]
  },
  {
   "cell_type": "markdown",
   "id": "2a660a09",
   "metadata": {},
   "source": [
    "#### Arithmetic & Logical Operations in Python \n",
    "- Arithmetic Operators: Add +, -, multiply *, Divide /, Power **, Modulus or remainder %\n",
    "- Comparison Operators: equivalent to ==, Not equal to !=, less than <,  greater than >\n",
    "less than equal to <=,  greater than equal to >=\n",
    "- Logical Operators: and, or, not\n"
   ]
  },
  {
   "cell_type": "code",
   "execution_count": 7,
   "id": "d532898d",
   "metadata": {},
   "outputs": [
    {
     "name": "stdout",
     "output_type": "stream",
     "text": [
      "13\n",
      "7\n",
      "1000\n",
      "True\n",
      "1\n"
     ]
    }
   ],
   "source": [
    "a = 10\n",
    "b = 3\n",
    "print (a + b) # add\n",
    "print (a - b) #subtraction\n",
    "print (a**b) # power\n",
    "print (a > b) # greater than\n",
    "print (a%b) # modulus"
   ]
  },
  {
   "cell_type": "markdown",
   "id": "ee777ac3",
   "metadata": {},
   "source": [
    "#### Control Flows\n",
    " helps to make decisions and repeat tasks\n",
    " - If else statement\n"
   ]
  },
  {
   "cell_type": "code",
   "execution_count": 8,
   "id": "b765c1a3",
   "metadata": {},
   "outputs": [
    {
     "name": "stdout",
     "output_type": "stream",
     "text": [
      "Adult\n"
     ]
    }
   ],
   "source": [
    "age = int(input (\"Enter your age here\"))\n",
    "if age >= 18:\n",
    "    print (\"Adult\")\n",
    "else:\n",
    "    print (\"Minor\")"
   ]
  },
  {
   "cell_type": "code",
   "execution_count": 9,
   "id": "29a49078",
   "metadata": {},
   "outputs": [
    {
     "name": "stdout",
     "output_type": "stream",
     "text": [
      "Adult\n"
     ]
    }
   ],
   "source": [
    "age = int (input (\"Enter your age here\"))\n",
    "if age >= 0 and age < 13:\n",
    "    print (\"Child\")\n",
    "elif age >=13 and age <20:\n",
    "    print (\"Teenager\")\n",
    "else:\n",
    "    print (\"Adult\")"
   ]
  }
 ],
 "metadata": {
  "kernelspec": {
   "display_name": "base",
   "language": "python",
   "name": "python3"
  },
  "language_info": {
   "codemirror_mode": {
    "name": "ipython",
    "version": 3
   },
   "file_extension": ".py",
   "mimetype": "text/x-python",
   "name": "python",
   "nbconvert_exporter": "python",
   "pygments_lexer": "ipython3",
   "version": "3.12.7"
  }
 },
 "nbformat": 4,
 "nbformat_minor": 5
}
