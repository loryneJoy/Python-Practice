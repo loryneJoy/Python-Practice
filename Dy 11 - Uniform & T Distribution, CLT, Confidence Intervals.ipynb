{
 "cells": [
  {
   "cell_type": "markdown",
   "id": "4650e362",
   "metadata": {},
   "source": [
    "# The Uniform Distribution\n",
    "Uniform Distribution describes an event where every possible outcome is equally likely. \n",
    "No single outcome carries any more or less probability of happening than any other possible outcome. \n",
    "The Uniform Distribution can be discrete or continuous. Mostly used to be discrete.\n",
    "has an upper limit and lower limit\n",
    "we use PMF since it is discrete.\n",
    "\n",
    "## Discrete Uniform Distribution\n",
    "\n",
    "\n",
    "## Continuous Uniform Distribution\n",
    "\n",
    "\n",
    "# Central Limit Theorem and Confidence Intervals\n",
    "Confidence intervals - are a tool that allows us to give a more formal answer questions, and they form the basis for the statistical testing (hypothesis testing)\n",
    "\n",
    "## The Central Limit Theorem\n",
    "allows us to treat non-normal distributions as normal distributions and provides a way for us to estimate parameters about a population.\n",
    "\n",
    "Confidence Intervals\n",
    "A confidence interval is a range of values surrounding an estimated parameter. \n",
    "The width of the range depends on the variance of the data (more variance results in a wider confidence interval, less variance in a narrower confidence interval) as well as the confidence level (a higher confidence level results in a wider confidence interval, lower confidence level results in a narrower confidence interval).\n",
    "\n",
    "## The t-Distribution\n",
    "Initial confidence intervals use the z-distribution \n",
    "The t-distribution allows us to work with samples where the population standard deviation is unknown (as well as smaller samples), in order to form confidence intervals.\n",
    "\n",
    "## Central Limit Theorem\n",
    "CLT states that, under many conditions, independent random variables summed together will converge to a normal distribution as the number of variables increases.\n",
    "population parameters arer like mean, standard deviation\n",
    "\n",
    "## Confidence Intervals with T-Distribution"
   ]
  },
  {
   "cell_type": "code",
   "execution_count": 1,
   "id": "73225156",
   "metadata": {},
   "outputs": [],
   "source": [
    "import pandas as pd\n",
    "import matplotlib.pyplot as plt\n",
    "import numpy as np\n",
    "import seaborn as sns\n",
    "from scipy import stats"
   ]
  },
  {
   "cell_type": "code",
   "execution_count": 2,
   "id": "e9527f6b",
   "metadata": {},
   "outputs": [
    {
     "name": "stdout",
     "output_type": "stream",
     "text": [
      "62.45 19.209304214912432 4.295331002501743\n"
     ]
    }
   ],
   "source": [
    "# with a sample of patient cholesterol levels \n",
    "# calculate the population mean with a 95% confidence.\n",
    "\n",
    "sample_chol_levels = [66.0, 36.0, 73.0, 48.0, 81.0, 69.0, 75.0, 81.0, 73.0,\n",
    "                      69.0, 101.0, 70.0, 50.0, 42.0, 36.0, 71.0, 65.0, 43.0, 76.0, 24.0]\n",
    "\n",
    "# calculate our sample mean (xbar) and our sample standard deviation (S).\n",
    "x_bar = np.mean(sample_chol_levels)\n",
    "s = np.std(sample_chol_levels, ddof = 1) #ddof = 1 to np.std ensures correctly compute the standard deviation of the sample.\n",
    "se = s/np.sqrt(len(sample_chol_levels))\n",
    "print(x_bar, s, se)"
   ]
  },
  {
   "cell_type": "code",
   "execution_count": 5,
   "id": "71c28b64",
   "metadata": {},
   "outputs": [
    {
     "data": {
      "text/plain": [
       "(53.4597688901183, 71.44023110988171)"
      ]
     },
     "execution_count": 5,
     "metadata": {},
     "output_type": "execute_result"
    }
   ],
   "source": [
    "import scipy.stats as stats\n",
    "# Calculate our interval estimate using a t-distribution and our various parameters:\n",
    "# the sample mean, \n",
    "# The sample standard deviation,\n",
    "# The degrees of freedom (this is 1 less then the number of items in the sample)\n",
    "#The confidence level we wish to have in our estimate\n",
    "\n",
    "stats.t.interval(confidence = 0.95,                         # Confidence level\n",
    "                 df= len(sample_chol_levels)-1,             # Degrees of freedom\n",
    "                 loc = x_bar,                               # Sample mean\n",
    "                 scale = se)                                # Estimated standard error of the mean\n",
    "\n",
    "#this confidence interval is relatively wide. \n",
    "# In order to achieve a 95% confidence level, we had to make a very general statement that we believe \n",
    "# the average cholesterol level is between 53.5 and 71.4."
   ]
  },
  {
   "cell_type": "markdown",
   "id": "438d80e3",
   "metadata": {},
   "source": [
    "- with the large sample size, the sample point estimates are fairly accurate on their own.\n"
   ]
  },
  {
   "cell_type": "code",
   "execution_count": 8,
   "id": "9d8f5b58",
   "metadata": {},
   "outputs": [],
   "source": [
    "sample_chol_levels2 = np.random.normal(loc=54, scale=17, size=1000)"
   ]
  },
  {
   "cell_type": "code",
   "execution_count": 10,
   "id": "426a5328",
   "metadata": {},
   "outputs": [
    {
     "name": "stdout",
     "output_type": "stream",
     "text": [
      "Sample mean: 54.14045593312731\n",
      "Sample standard deviation: 17.002080212063028\n",
      "Estimated standard error: 0.5376529843099778\n"
     ]
    }
   ],
   "source": [
    "# With the randomized sample, the code is the same as above, but the output will be different.\n",
    "x_bar2 = np.mean(sample_chol_levels2)\n",
    "s2 = np.std(sample_chol_levels2, ddof = 1)\n",
    "se2 = s2/np.sqrt(len(sample_chol_levels2))\n",
    "print('Sample mean:', x_bar2)\n",
    "print('Sample standard deviation:', s2)\n",
    "print('Estimated standard error:', se2)"
   ]
  },
  {
   "cell_type": "code",
   "execution_count": null,
   "id": "40721203",
   "metadata": {},
   "outputs": [
    {
     "data": {
      "text/plain": [
       "(53.255274627098906, 55.02563723915572)"
      ]
     },
     "execution_count": 11,
     "metadata": {},
     "output_type": "execute_result"
    }
   ],
   "source": [
    "#Min and Max of Confidence Interval\n",
    "stats.t.interval(confidence = 0.9,\n",
    "                df = len(sample_chol_levels2)-1,\n",
    "                loc = x_bar2,\n",
    "                scale = se2)"
   ]
  }
 ],
 "metadata": {
  "kernelspec": {
   "display_name": "base",
   "language": "python",
   "name": "python3"
  },
  "language_info": {
   "codemirror_mode": {
    "name": "ipython",
    "version": 3
   },
   "file_extension": ".py",
   "mimetype": "text/x-python",
   "name": "python",
   "nbconvert_exporter": "python",
   "pygments_lexer": "ipython3",
   "version": "3.12.7"
  }
 },
 "nbformat": 4,
 "nbformat_minor": 5
}
