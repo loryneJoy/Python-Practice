{
 "cells": [
  {
   "cell_type": "markdown",
   "id": "8c50878c",
   "metadata": {},
   "source": [
    "#### INDEXES AND SLICES\n",
    "1. Indexes \n",
    "- Indexes return positions \n",
    "2. Slicing\n",
    "- returns a new list without modifying the original list."
   ]
  },
  {
   "cell_type": "code",
   "execution_count": null,
   "id": "acc459ca",
   "metadata": {},
   "outputs": [
    {
     "name": "stdout",
     "output_type": "stream",
     "text": [
      "1\n"
     ]
    }
   ],
   "source": [
    "figures = [1,2,3,4,5,6,7,8,9,10] # indexing example\n",
    "print (figures [0])"
   ]
  },
  {
   "cell_type": "code",
   "execution_count": null,
   "id": "6433cc15",
   "metadata": {},
   "outputs": [
    {
     "name": "stdout",
     "output_type": "stream",
     "text": [
      "[2, 3, 4]\n"
     ]
    }
   ],
   "source": [
    "# to return values btwn position 1 - 4 (slicing example)\n",
    "print (figures [1:4])"
   ]
  },
  {
   "cell_type": "code",
   "execution_count": 3,
   "id": "63ff1492",
   "metadata": {},
   "outputs": [
    {
     "name": "stdout",
     "output_type": "stream",
     "text": [
      "[1, 2, 3, 4]\n"
     ]
    }
   ],
   "source": [
    "print (figures [:4])"
   ]
  },
  {
   "cell_type": "code",
   "execution_count": 4,
   "id": "3847a01c",
   "metadata": {},
   "outputs": [
    {
     "name": "stdout",
     "output_type": "stream",
     "text": [
      "[5, 6, 7, 8, 9, 10]\n"
     ]
    }
   ],
   "source": [
    "print (figures [4:])"
   ]
  },
  {
   "cell_type": "markdown",
   "id": "e051b013",
   "metadata": {},
   "source": [
    "#### FILE INPUT AND FILE OUTPUT\n",
    "- python allows you to read and write files."
   ]
  },
  {
   "cell_type": "code",
   "execution_count": null,
   "id": "95e81b0e",
   "metadata": {},
   "outputs": [],
   "source": [
    "# Writing to a file:\n",
    "with open (\"sample.txt\", \"w\" ) as file: # \"w\" means write\n",
    "    file.write (\"hello world\")"
   ]
  },
  {
   "cell_type": "code",
   "execution_count": null,
   "id": "cf089794",
   "metadata": {},
   "outputs": [],
   "source": [
    "with open (\"sample.txt\", \"w\") as file: # \"w\" means write\n",
    "    file.write (\"Good morning\\n Hello World\") # \\n is a linefeed"
   ]
  },
  {
   "cell_type": "code",
   "execution_count": null,
   "id": "cdcb384a",
   "metadata": {},
   "outputs": [
    {
     "name": "stdout",
     "output_type": "stream",
     "text": [
      "Good morning\n",
      " Hello World\n"
     ]
    }
   ],
   "source": [
    "# to read what is in a file:\n",
    "with open (r\"sample.txt\") as file: # r means to read\n",
    "    content = file.read ()\n",
    "    print (content)"
   ]
  },
  {
   "cell_type": "code",
   "execution_count": 4,
   "id": "fce58485",
   "metadata": {},
   "outputs": [
    {
     "name": "stdout",
     "output_type": "stream",
     "text": [
      "\"Product\",\"Current price\",\"old price\",\"Discount\",\"Review\",\"Ratingd\"\n",
      "\"115  Piece Set Of Multifunctional Precision Screwdrivers\",\"KSh 950\",\"KSh 1,525\",\"38%\",\"(2)\",\"4.5 out of 5\"\n",
      "\"Metal Decorative Hooks Key Hangers Entryway Wall Hooks Towel Hooks - Home\",\"KSh 527\",\"KSh 999\",\"47%\",\"(14)\",\"4.1 out of 5\"\n",
      "\"Portable Mini Cordless Car Vacuum Cleaner - Blue\",\"KSh 2,199\",\"KSh 2,923\",\"25%\",\"(24)\",\"4.6 out of 5\"\n",
      "\"Weighing Scale Digital Bathroom Body Fat Scale USB-Black\",\"KSh 1,580\",\"KSh 2,499\",\"37%\",\"(7)\",\"4.7 out of 5\"\n",
      "\"Portable Home Small Air Humidifier 3-Speed Fan - Green\",\"KSh 1,740\",\"KSh 2,356\",\"26%\",\"(5)\",\"4.8 out of 5\"\n",
      "\"220V 60W Electric Soldering Iron Kits With Tools, Tips, And Multimeter\",\"KSh 2,999\",\"KSh 3,290\",\"9%\",\"(15)\",\"4 out of 5\"\n",
      "\"137 Pieces Cake Decorating Tool Set Baking Supplies\",\"KSh 2,319\",\"KSh 3,032\",\"24%\",\"(55)\",\"4.6 out of 5\"\n",
      "\"Desk Foldable Fan Adjustable Fan Strong Wind 3 Gear Usb\",\"KSh 988\",\"KSh 1,580\",\"37%\",\"(2)\",\"4 out of 5\"\n",
      "\"LASA FOLDING TABLE SERVING STAND\",\"KSh 1,274\",\"KSh 2,800\",\"55%\",\"(5)\",\"4.8 out of 5\"\n",
      "\"13 In 1 Home Repair Tools Box Kit Set\",\"KSh 1,600\",\"KSh 2,929\",\"45%\",\"(5)\",\"3.8 out of 5\"\n",
      "\"Genebre 115 In 1 Screwdriver Repairing Tool Set For IPhone Cellphone Hand Tool\",\"KSh 799\",\"KSh 999\",\"20%\",\"(12)\",\"4.1 out of 5\"\n",
      "\"100 Pcs Crochet Hook Tool Set Knitting Hook Set With Box\",\"KSh 990\",\"KSh 1,500\",\"34%\",\"(39)\",\"4.7 out of 5\"\n",
      "\"40cm Gold DIY Acrylic Wall Sticker Clock\",\"KSh 552\",\"KSh 1,035\",\"47%\",\"(12)\",\"4.8 out of 5\"\n",
      "\"LASA Digital Thermometer And Hydrometer\",\"KSh 501\",\"KSh 860\",\"42%\",\"(6)\",\"4.5 out of 5\"\n",
      "\"Multifunction Laser Level With Adjustment Tripod\",\"KSh 1,680\",\"KSh 2,499\",\"33%\",\"(9)\",\"4.2 out of 5\"\n",
      "\"Anti-Skid Absorbent Insulation Coaster  For Home Office\",\"KSh 332\",\"KSh 684\",\"51%\",\"(2)\",\"5 out of 5\"\n",
      "\"Peacock  Throw Pillow Cushion Case For Home Car\",\"KSh 195\",\"KSh 360\",\"46%\",\"(2)\",\"5 out of 5\"\n",
      "\"LASA Aluminum Folding Truck Hand Cart - 68kg Max\",\"KSh 2,025\",\"KSh 3,971\",\"49%\",\"(3)\",\"5 out of 5\"\n",
      "\"LED Wall Digital Alarm Clock Study Home 12 / 24H Clock Calendar\",\"KSh 2,999\",\"KSh 3,699\",\"19%\",\"(5)\",\"4.6 out of 5\"\n",
      "\"3D Waterproof EVA Plastic Shower Curtain 1.8*2Mtrs\",\"KSh 998\",\"KSh 1,966\",\"49%\",\"(44)\",\"4.6 out of 5\"\n",
      "\"3PCS Single Head Knitting Crochet Sweater Needle Set\",\"KSh 38\",\"KSh 80\",\"53%\",\"(13)\",\"3.3 out of 5\"\n",
      "\"4pcs Bathroom/Kitchen Towel Rack,Roll Paper Holder,Towel Bars,Hook\",\"KSh 1,860\",\"KSh 3,220\",\"42%\",\"\",\"\"\n",
      "\"LED Romantic Spaceship Starry Sky Projector,Children's Bedroom Night Light-Blue\",\"KSh 880\",\"KSh 1,350\",\"35%\",\"(6)\",\"4 out of 5\"\n",
      "\"Foldable Overbed Table/Desk\",\"KSh 1,650\",\"KSh 2,150\",\"23%\",\"(14)\",\"4.4 out of 5\"\n",
      "\"LASA 3 Tier Bamboo Shoe Bench Storage Shelf\",\"KSh 2,048\",\"KSh 4,500\",\"54%\",\"(7)\",\"4.3 out of 5\"\n",
      "\"Electronic Digital Display Vernier Caliper\",\"KSh 420\",\"KSh 647\",\"35%\",\"(49)\",\"4.6 out of 5\"\n",
      "\"Portable Wardrobe Nonwoven With 3 Hanging Rods And 6 Storage Shelves\",\"KSh 2,880\",\"KSh 3,520\",\"18%\",\"(12)\",\"3.8 out of 5\"\n",
      "\"12 Litre Black Insulated Lunch Box\",\"KSh 1,350\",\"KSh 1,990\",\"32%\",\"(13)\",\"3.8 out of 5\"\n",
      "\"52 Pieces Cake Decorating Tool Set Gift Kit Baking Supplies\",\"KSh 1,758\",\"KSh 2,499\",\"30%\",\"(20)\",\"4.1 out of 5\"\n",
      "\"MultiFunctional Storage Rack Multi-layer Bookshelf\",\"KSh 2,200\",\"KSh 4,080\",\"46%\",\"\",\"\"\n",
      "\"Exfoliate And Exfoliate Face Towel - Black\",\"KSh 185\",\"KSh 382\",\"52%\",\"(9)\",\"4.3 out of 5\"\n",
      "\"12 Litre Insulated Lunch Box Grey\",\"KSh 980\",\"KSh 1,490\",\"34%\",\"(12)\",\"4.7 out of 5\"\n",
      "\"LED Eye Protection  Desk Lamp , Study, Reading, USB Fan - Double Pen Holder\",\"KSh 1,820\",\"KSh 3,490\",\"48%\",\"(9)\",\"4.3 out of 5\"\n",
      "\"53Pcs/Set Yarn Knitting Crochet Hooks With Bag - Fortune Cat\",\"KSh 1,940\",\"KSh 2,650\",\"27%\",\"(20)\",\"4.7 out of 5\"\n",
      "\"53 Pieces/Set Yarn Knitting Crochet Hooks With Bag - Pansies\",\"KSh 1,980\",\"KSh 2,699\",\"27%\",\"(32)\",\"4.5 out of 5\"\n",
      "\"DIY File Folder, Office Drawer File Holder, Pen Holder, Desktop Storage Rack\",\"KSh 1,620\",\"KSh 2,690\",\"40%\",\"(1)\",\"5 out of 5\"\n",
      "\"Classic Black Cat Cotton Hemp Pillow Case For Home Car\",\"KSh 171\",\"KSh 360\",\"53%\",\"(2)\",\"5 out of 5\"\n",
      "\"Punch-free Great Load Bearing Bathroom Storage Rack Wall Shelf-White\",\"KSh 389\",\"KSh 656\",\"41%\",\"(36)\",\"4.3 out of 5\"\n",
      "\"1/2/3 Seater Elastic Sofa Cover,Living Room/Home Decor Chair Cover-Grey\",\"KSh 1,620 - KSh 1,980\",\"KSh 2,200 - KSh 3,200\",\"38%\",\"(2)\",\"4.5 out of 5\"\n",
      "\"LASA Stainless Steel Double Wall Mount Soap Dispenser - 500ml\",\"KSh 2,750\",\"KSh 4,471\",\"38%\",\"\",\"\"\n",
      "\"4M Float Switch Water Level Controller -Water Tank\",\"KSh 475\",\"KSh 931\",\"49%\",\"\",\"\"\n",
      "\"Modern Sofa Throw Pillow Cover-45x45cm-Blue&Red\",\"KSh 238\",\"KSh 476\",\"50%\",\"\",\"\"\n",
      "\"Balloon Insert, Birthday Party Balloon Set, PU Leather\",\"KSh 610\",\"KSh 1,060\",\"42%\",\"\",\"\"\n",
      "\"Balloon Insert, Birthday Party Balloon Set, PU Leather\",\"KSh 610\",\"KSh 1,060\",\"42%\",\"\",\"\"\n",
      "\"Shower Cap Wide Elastic Band Cover Reusable Bashroom Cap\",\"KSh 2,132\",\"KSh 2,169\",\"2%\",\"\",\"\"\n",
      "\"Christmas Elk Fence Yard Lawn Decorations Cute For Holidays\",\"KSh 999\",\"KSh 2,000\",\"50%\",\"\",\"\"\n",
      "\"60W Hot Melt Glue Sprayer - Efficient And Stable Glue Dispensing\",\"KSh 1,190\",\"KSh 1,785\",\"33%\",\"\",\"\"\n",
      "\"Car Phone Charging Stand\",\"KSh 671\",\"KSh 1,316\",\"49%\",\"\",\"\"\n",
      "\"2pcs Solar Street Light Flood Light Outdoor\",\"KSh 1,200\",\"KSh 1,950\",\"38%\",\"\",\"\"\n",
      "\"Creative Owl Shape Keychain Black\",\"KSh 199\",\"KSh 504\",\"61%\",\"\",\"\"\n",
      "\"Brush & Paintbrush Cleaning Tool Pink\",\"KSh 299\",\"KSh 600\",\"50%\",\"\",\"\"\n",
      "\"Pen Grips For Kids Pen Grip Posture Correction Tool For Kids\",\"KSh 1,660\",\"KSh 1,699\",\"2%\",\"\",\"\"\n",
      "\"Pilates Cloth Bag Waterproof Durable High Capacity Purple\",\"KSh 299\",\"KSh 384\",\"22%\",\"\",\"\"\n",
      "\"Multi-purpose Rice Drainage Basket And Fruit And Vegetable Drainage Sieve\",\"KSh 1,459\",\"KSh 1,499\",\"3%\",\"\",\"\"\n",
      "\"Cute Christmas Fence Garden Decorations For Holiday Home\",\"KSh 799\",\"KSh 1,343\",\"41%\",\"\",\"\"\n",
      "\"Simple Metal Dog Art Sculpture Decoration For Home Office\",\"KSh 499\",\"KSh 900\",\"45%\",\"\",\"\"\n",
      "\"Christmas Fence Garden Decorations Outdoor For Holiday Home\",\"KSh 699\",\"KSh 1,343\",\"48%\",\"\",\"\"\n",
      "\"Angle Measuring Tool Full Metal Multi Angle Measuring Tool\",\"KSh 799\",\"KSh 1,567\",\"49%\",\"\",\"\"\n",
      "\"12V 19500rpm Handheld Electric Angle Grinder Tool - UK - Yellow/Black\",\"KSh 2,799\",\"KSh 3,810\",\"27%\",\"\",\"\"\n",
      "\"Simple Metal Dog Art Sculpture Decoration For Home Office\",\"KSh 399\",\"KSh 896\",\"55%\",\"\",\"\"\n",
      "\"5 Pieces/set Of Stainless Steel Induction Cooker Pots\",\"KSh 2,170\",\"KSh 2,500\",\"13%\",\"(6)\",\"2.5 out of 5\"\n",
      "\"Mythco 120COB Solar Wall Ligt With Motion Sensor And Remote Control 3 Modes\",\"KSh 458\",\"KSh 986\",\"54%\",\"(10)\",\"3 out of 5\"\n",
      "\"5-PCS Stainless Steel Cooking Pot Set With Steamed Slices\",\"KSh 2,115\",\"KSh 4,700\",\"55%\",\"(13)\",\"2.1 out of 5\"\n",
      "\"120W Cordless Vacuum Cleaners Handheld Electric Vacuum Cleaner\",\"KSh 445\",\"KSh 873\",\"49%\",\"(69)\",\"2.8 out of 5\"\n",
      "\"Intelligent  LED Body Sensor Wireless Lighting Night Light USB\",\"KSh 325\",\"KSh 680\",\"52%\",\"(15)\",\"2.7 out of 5\"\n",
      "\"VIC Wireless Vacuum Cleaner Dual Use For Home And Car 120W High Power Powerful\",\"KSh 1,220\",\"KSh 1,555\",\"22%\",\"(16)\",\"2.9 out of 5\"\n",
      "\"Artificial Potted Flowers Room Decorative Flowers (2 Pieces)\",\"KSh 990\",\"KSh 1,814\",\"45%\",\"(6)\",\"2.2 out of 5\"\n",
      "\"380ML USB Rechargeable Portable Small Blenders And Juicers\",\"KSh 1,000\",\"KSh 2,000\",\"50%\",\"(7)\",\"2.3 out of 5\"\n",
      "\"32PCS Portable Cordless Drill Set With Cyclic Battery Drive -26 Variable Speed\",\"KSh 3,750\",\"KSh 6,143\",\"39%\",\"(5)\",\"3 out of 5\"\n",
      "\"Agapeon Toothbrush Holder And Toothpaste Dispenser\",\"KSh 382\",\"KSh 700\",\"45%\",\"(17)\",\"2.6 out of 5\"\n",
      "\"Large Lazy Inflatable Sofa Chairs PVC Lounger Seat Bag\",\"KSh 2,300\",\"KSh 3,240\",\"29%\",\"(5)\",\"3 out of 5\"\n",
      "\"Watercolour Gold Foil Textured Print Pillow Cover\",\"KSh 345\",\"KSh 602\",\"43%\",\"(6)\",\"2.3 out of 5\"\n",
      "\"Wrought Iron Bathroom Shelf Wall Mounted Free Punch Toilet Rack\",\"KSh 509\",\"KSh 899\",\"43%\",\"(5)\",\"3 out of 5\"\n",
      "\"7-piece Set Of Storage Bags, Travel Storage Bags, Shoe Bags\",\"KSh 968\",\"KSh 1,814\",\"47%\",\"(6)\",\"2.2 out of 5\"\n",
      "\"Electric LED UV Mosquito Killer Lamp, Outdoor/Indoor Fly Killer Trap Light -USB\",\"KSh 1,570\",\"KSh 2,988\",\"47%\",\"(7)\",\"2.1 out of 5\"\n",
      "\"2PCS/LOT Solar LED Outdoor Intelligent Light Controlled Wall Lamp\",\"KSh 790\",\"KSh 1,485\",\"47%\",\"\",\"\"\n",
      "\"3PCS Rotary Scraper Thermomix For Kitchen\",\"KSh 690\",\"KSh 1,200\",\"43%\",\"\",\"\"\n",
      "\"Cushion Silicone Butt Cushion Summer Ice Cushion Honeycomb Gel Cushion\",\"KSh 1,732\",\"KSh 1,799\",\"4%\",\"\",\"\"\n",
      "\"7PCS Silicone Thumb Knife Finger Protector Vegetable Harvesting Knife\",\"KSh 230\",\"KSh 450\",\"49%\",\"\",\"\"\n",
      "\"Memory Foam Neck Pillow Cover, With Pillow Core - 50*30cm\",\"KSh 1,189\",\"KSh 2,199\",\"46%\",\"(1)\",\"3 out of 5\"\n",
      "\"Bedroom Simple Floor Hanging Clothes Rack Single Pole Hat Rack - White\",\"KSh 979\",\"KSh 1,920\",\"49%\",\"(1)\",\"5 out of 5\"\n",
      "\"5m Waterproof Spherical LED String Lights Outdoor Ball Chain Lights Party Lighting Decoration Adjustable\",\"KSh 1,460\",\"KSh 2,290\",\"36%\",\"\",\"\"\n",
      "\"2 Pairs Cowhide Split Leather Work Gloves.32℉ Or Above Welding Gloves\",\"KSh 1,666\",\"KSh 1,699\",\"2%\",\"\",\"\"\n",
      "\"Household Pineapple Peeler Peeler\",\"KSh 330\",\"KSh 647\",\"49%\",\"(1)\",\"4 out of 5\"\n",
      "\"Balloon Insert, Birthday Party Balloon Set, PU Leather\",\"KSh 610\",\"KSh 1,060\",\"42%\",\"\",\"\"\n",
      "\"Creative Owl Shape Keychain Black\",\"KSh 176\",\"KSh 345\",\"49%\",\"\",\"\"\n",
      "\"Office Chair Lumbar Back Support Spine Posture Correction Pillow Car Cushion\",\"KSh 1,466\",\"KSh 1,699\",\"14%\",\"\",\"\"\n",
      "\"Cartoon Car Decoration Cute Individuality For Car Home Desk\",\"KSh 274\",\"KSh 537\",\"49%\",\"\",\"\"\n",
      "\"Outdoor Portable Water Bottle With Medicine Box - 600ML - Black\",\"KSh 799\",\"KSh 900\",\"11%\",\"\",\"\"\n",
      "\"Angle Measuring Tool Full Metal Multi Angle Measuring Tool\",\"KSh 657\",\"KSh 1,288\",\"49%\",\"\",\"\"\n",
      "\"Wall-Mounted Toothbrush Toothpaste Holder With Multiple Slots\",\"KSh 1,468\",\"KSh 1,699\",\"14%\",\"\",\"\"\n",
      "\"Multifunctional Hanging Storage Box Storage Bag (4 Layers)\",\"KSh 630\",\"KSh 1,100\",\"43%\",\"\",\"\"\n",
      "\"Wall Clock With Hidden Safe Box\",\"KSh 850\",\"KSh 1,700\",\"50%\",\"\",\"\"\n",
      "\"Portable Wine Table With Folding Round Table\",\"KSh 1,300\",\"KSh 2,500\",\"48%\",\"\",\"\"\n",
      "\"Sewing Machine Needle Threader Stitch Insertion Tool Automatic Quick Sewing\",\"KSh 105\",\"KSh 200\",\"48%\",\"\",\"\"\n",
      "\"6 Layers Steel Pipe Assembling Dustproof Storage Shoe Cabinet\",\"KSh 899\",\"KSh 1,699\",\"47%\",\"\",\"\"\n",
      "\"6 Layers Steel Pipe Assembling Dustproof Storage Shoe Cabinet\",\"KSh 899\",\"KSh 1,699\",\"47%\",\"\",\"\"\n",
      "\"2PCS Ice Silk Square Cushion Cover Pillowcases - 65x65cm\",\"KSh 1,200\",\"KSh 2,400\",\"50%\",\"\",\"\"\n",
      "\"Wall Mount Automatic Toothpaste Dispenser Toothbrush Holder Toothpaste Squeezer\",\"KSh 1,526\",\"KSh 1,660\",\"8%\",\"\",\"\"\n",
      "\"Portable Soap Dispenser Kitchen Detergent Press Box Kitchen Tools\",\"KSh 1,462\",\"KSh 1,499\",\"2%\",\"\",\"\"\n",
      "\"4 Piece Coloured Stainless Steel Kitchenware Set\",\"KSh 248\",\"KSh 486\",\"49%\",\"\",\"\"\n",
      "\"Metal Wall Clock Silver Dial Crystal Jewelry Round Home Decoration Wall Clock\",\"KSh 3,546\",\"KSh 3,699\",\"4%\",\"\",\"\"\n",
      "\"Baby Early Education Shape And Color Cognitive Training Toys\",\"KSh 525\",\"KSh 1,029\",\"49%\",\"\",\"\"\n",
      "\"8in1 Screwdriver With LED Light\",\"KSh 1,080\",\"KSh 1,874\",\"42%\",\"\",\"\"\n",
      "\"Konka Healty Electric Kettle, 24-hour Heat Preservation,1.5L,800W, White\",\"KSh 3,640\",\"KSh 4,588\",\"21%\",\"(1)\",\"5 out of 5\"\n",
      "\"9pcs Gas Mask, For Painting, Dust, Formaldehyde Grinding, Polishing\",\"KSh 1,420\",\"KSh 2,420\",\"41%\",\"\",\"\"\n",
      "\"24 Grid Wall-mounted Sundries Organiser Fabric Closet Bag Storage Rack\",\"KSh 1,875\",\"KSh 1,899\",\"1%\",\"\",\"\"\n",
      "\"1PC Refrigerator Food Seal Pocket Fridge Bags\",\"KSh 198\",\"KSh 260\",\"24%\",\"\",\"\"\n",
      "\"LED Solar Street Light-fake Camera\",\"KSh 1,150\",\"KSh 1,737\",\"34%\",\"\",\"\"\n",
      "\"Cartoon Embroidered Mini Towel Bear Cotton Wash Cloth Hand 4pcs\",\"KSh 1,190\",\"KSh 1,810\",\"34%\",\"\",\"\"\n",
      "\"Shower Nozzle Cleaning Unclogging Needle Mini Crevice Small Hole Cleaning Brush\",\"KSh 1,658\",\"KSh 1,699\",\"2%\",\"\",\"\"\n",
      "\"Thickening Multipurpose Non Stick Easy To Clean Heat Resistant Spoon Pad\",\"KSh 1,768\",\"KSh 1,799\",\"2%\",\"\",\"\"\n",
      "\"6 In 1 Bottle Can Opener Multifunctional Easy Opener\",\"KSh 199\",\"KSh 553\",\"64%\",\"\",\"\"\n",
      "\"Wall-mounted Sticker Punch-free Plug Fixer\",\"KSh 450\",\"KSh 900\",\"50%\",\"(1)\",\"2 out of 5\"\n",
      "\"Black Simple Water Cup Wine Coaster Anti Slip Absorbent\",\"KSh 169\",\"KSh 320\",\"47%\",\"\",\"\"\n"
     ]
    }
   ],
   "source": [
    "with open (r\"C:\\Users\\Loryne\\Documents\\LUXDEVHQ-LoryneJoy\\DATA_SCIENCE\\PYTHON_\\PYTHON_Practice\\Excel_jumia.csv\") as jumia:\n",
    "    jumia_content = jumia.read()\n",
    "    print (jumia_content)"
   ]
  },
  {
   "cell_type": "code",
   "execution_count": null,
   "id": "166073ce",
   "metadata": {},
   "outputs": [
    {
     "data": {
      "text/html": [
       "<div>\n",
       "<style scoped>\n",
       "    .dataframe tbody tr th:only-of-type {\n",
       "        vertical-align: middle;\n",
       "    }\n",
       "\n",
       "    .dataframe tbody tr th {\n",
       "        vertical-align: top;\n",
       "    }\n",
       "\n",
       "    .dataframe thead th {\n",
       "        text-align: right;\n",
       "    }\n",
       "</style>\n",
       "<table border=\"1\" class=\"dataframe\">\n",
       "  <thead>\n",
       "    <tr style=\"text-align: right;\">\n",
       "      <th></th>\n",
       "      <th>Product</th>\n",
       "      <th>Current price</th>\n",
       "      <th>old price</th>\n",
       "      <th>Discount</th>\n",
       "      <th>Review</th>\n",
       "      <th>Ratingd</th>\n",
       "    </tr>\n",
       "  </thead>\n",
       "  <tbody>\n",
       "    <tr>\n",
       "      <th>0</th>\n",
       "      <td>115  Piece Set Of Multifunctional Precision Sc...</td>\n",
       "      <td>KSh 950</td>\n",
       "      <td>KSh 1,525</td>\n",
       "      <td>38%</td>\n",
       "      <td>(2)</td>\n",
       "      <td>4.5 out of 5</td>\n",
       "    </tr>\n",
       "    <tr>\n",
       "      <th>1</th>\n",
       "      <td>Metal Decorative Hooks Key Hangers Entryway Wa...</td>\n",
       "      <td>KSh 527</td>\n",
       "      <td>KSh 999</td>\n",
       "      <td>47%</td>\n",
       "      <td>(14)</td>\n",
       "      <td>4.1 out of 5</td>\n",
       "    </tr>\n",
       "    <tr>\n",
       "      <th>2</th>\n",
       "      <td>Portable Mini Cordless Car Vacuum Cleaner - Blue</td>\n",
       "      <td>KSh 2,199</td>\n",
       "      <td>KSh 2,923</td>\n",
       "      <td>25%</td>\n",
       "      <td>(24)</td>\n",
       "      <td>4.6 out of 5</td>\n",
       "    </tr>\n",
       "    <tr>\n",
       "      <th>3</th>\n",
       "      <td>Weighing Scale Digital Bathroom Body Fat Scale...</td>\n",
       "      <td>KSh 1,580</td>\n",
       "      <td>KSh 2,499</td>\n",
       "      <td>37%</td>\n",
       "      <td>(7)</td>\n",
       "      <td>4.7 out of 5</td>\n",
       "    </tr>\n",
       "    <tr>\n",
       "      <th>4</th>\n",
       "      <td>Portable Home Small Air Humidifier 3-Speed Fan...</td>\n",
       "      <td>KSh 1,740</td>\n",
       "      <td>KSh 2,356</td>\n",
       "      <td>26%</td>\n",
       "      <td>(5)</td>\n",
       "      <td>4.8 out of 5</td>\n",
       "    </tr>\n",
       "  </tbody>\n",
       "</table>\n",
       "</div>"
      ],
      "text/plain": [
       "                                             Product Current price  old price  \\\n",
       "0  115  Piece Set Of Multifunctional Precision Sc...       KSh 950  KSh 1,525   \n",
       "1  Metal Decorative Hooks Key Hangers Entryway Wa...       KSh 527    KSh 999   \n",
       "2   Portable Mini Cordless Car Vacuum Cleaner - Blue     KSh 2,199  KSh 2,923   \n",
       "3  Weighing Scale Digital Bathroom Body Fat Scale...     KSh 1,580  KSh 2,499   \n",
       "4  Portable Home Small Air Humidifier 3-Speed Fan...     KSh 1,740  KSh 2,356   \n",
       "\n",
       "  Discount Review       Ratingd  \n",
       "0      38%    (2)  4.5 out of 5  \n",
       "1      47%   (14)  4.1 out of 5  \n",
       "2      25%   (24)  4.6 out of 5  \n",
       "3      37%    (7)  4.7 out of 5  \n",
       "4      26%    (5)  4.8 out of 5  "
      ]
     },
     "execution_count": 5,
     "metadata": {},
     "output_type": "execute_result"
    }
   ],
   "source": [
    "#pandas to get output - pandas is a python library for loading, reading & modifying data\n",
    "#sets in python\n",
    "import pandas as pd\n",
    "dataframe = pd.read_csv(r\"Excel_jumia.csv\")\n",
    "dataframe.head()"
   ]
  }
 ],
 "metadata": {
  "kernelspec": {
   "display_name": "base",
   "language": "python",
   "name": "python3"
  },
  "language_info": {
   "codemirror_mode": {
    "name": "ipython",
    "version": 3
   },
   "file_extension": ".py",
   "mimetype": "text/x-python",
   "name": "python",
   "nbconvert_exporter": "python",
   "pygments_lexer": "ipython3",
   "version": "3.12.7"
  }
 },
 "nbformat": 4,
 "nbformat_minor": 5
}
