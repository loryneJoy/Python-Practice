{
 "cells": [
  {
   "cell_type": "code",
   "execution_count": 2,
   "id": "6f001341",
   "metadata": {},
   "outputs": [
    {
     "name": "stdout",
     "output_type": "stream",
     "text": [
      "Roses are Purple\n",
      "Hearts are blue\n",
      "I love Jesus\n"
     ]
    }
   ],
   "source": [
    "# create a simple Mad Libs game:\n",
    "color = input( \"Enter a color: \")\n",
    "plural_noun = input(\"Enter a plural_noun: \")\n",
    "celebrity = input(\"Enter a celebrity: \")\n",
    "\n",
    "print (\"Roses are \" + color)\n",
    "print (plural_noun + \" are blue\")\n",
    "print (\"I love \" + celebrity)\n",
    "\n"
   ]
  },
  {
   "cell_type": "code",
   "execution_count": 3,
   "id": "ed858710",
   "metadata": {},
   "outputs": [
    {
     "name": "stdout",
     "output_type": "stream",
     "text": [
      "In the beginning was the word\n",
      " and the word was with God\n",
      " and the word was God\n",
      "John 1:1\n"
     ]
    }
   ],
   "source": [
    "verb = input(\"Enter a verb: \")\n",
    "noun = input(\"Enter a noun: \")\n",
    "verse = input(\"Enter a verse: \")\n",
    "\n",
    "print (\"In the beginning was the \" + verb)\n",
    "print (\" and the \" + verb + \" was with \" + noun)\n",
    "print (\" and the \" + verb + \" was \" + noun)\n",
    "print (verse)"
   ]
  },
  {
   "cell_type": "code",
   "execution_count": null,
   "id": "317c8b78",
   "metadata": {},
   "outputs": [
    {
     "name": "stdout",
     "output_type": "stream",
     "text": [
      " you are not human\n"
     ]
    }
   ],
   "source": [
    "gender = input(\"Enter gender: \")\n",
    "\n",
    "if gender:\n",
    "    print (\"You are \" + gender)\n",
    "else:\n",
    "    print (\" you are not human\")\n"
   ]
  },
  {
   "cell_type": "code",
   "execution_count": 5,
   "id": "e53d31bf",
   "metadata": {},
   "outputs": [
    {
     "name": "stdout",
     "output_type": "stream",
     "text": [
      "you are male or tall or both\n"
     ]
    }
   ],
   "source": [
    "is_male = True\n",
    "is_tall = False\n",
    "\n",
    "if is_male or is_tall:\n",
    "    print(\"you are male or tall or both\")\n",
    "else:\n",
    "    print(\"you are neither male nor tall\")"
   ]
  },
  {
   "cell_type": "code",
   "execution_count": 8,
   "id": "54dde0f3",
   "metadata": {},
   "outputs": [
    {
     "name": "stdout",
     "output_type": "stream",
     "text": [
      "you are neither not male not tall or both\n"
     ]
    }
   ],
   "source": [
    "is_male = True\n",
    "is_tall = False\n",
    "\n",
    "if is_male and is_tall:\n",
    "    print(\"you are a tall male\")\n",
    "else:\n",
    "    print(\"you are neither not male not tall or both\")"
   ]
  },
  {
   "cell_type": "code",
   "execution_count": null,
   "id": "4bf81c60",
   "metadata": {},
   "outputs": [
    {
     "name": "stdout",
     "output_type": "stream",
     "text": [
      "you are not male and not tall\n"
     ]
    }
   ],
   "source": [
    "#if else if statements:\n",
    "\n",
    "is_male = False\n",
    "is_tall = False\n",
    "\n",
    "if is_male and is_tall:\n",
    "    print(\"you are a tall male\")\n",
    "elif is_male and not (is_tall):\n",
    "    print(\"you are a short male\")\n",
    "elif not(is_male) and is_tall:\n",
    "    print(\"you are not male but are tall\")\n",
    "else:\n",
    "    print(\"you are not male and not tall\")"
   ]
  },
  {
   "cell_type": "code",
   "execution_count": 14,
   "id": "e94e89e6",
   "metadata": {},
   "outputs": [
    {
     "name": "stdout",
     "output_type": "stream",
     "text": [
      "69\n"
     ]
    }
   ],
   "source": [
    "#IF statements & Comparison Operators:\n",
    "def max_num(num1, num2, num3):\n",
    "    if num1 >= num2 and num1>=num3:\n",
    "      return num1\n",
    "    elif num2 >= num1 and num2 >= num3:\n",
    "      return num2\n",
    "    else:\n",
    "       return num3\n",
    "\n",
    "print (max_num( 38, 69, 47))"
   ]
  }
 ],
 "metadata": {
  "kernelspec": {
   "display_name": "base",
   "language": "python",
   "name": "python3"
  },
  "language_info": {
   "codemirror_mode": {
    "name": "ipython",
    "version": 3
   },
   "file_extension": ".py",
   "mimetype": "text/x-python",
   "name": "python",
   "nbconvert_exporter": "python",
   "pygments_lexer": "ipython3",
   "version": "3.12.7"
  }
 },
 "nbformat": 4,
 "nbformat_minor": 5
}
