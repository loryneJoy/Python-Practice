{
 "cells": [
  {
   "cell_type": "code",
   "execution_count": 2,
   "id": "95840386",
   "metadata": {},
   "outputs": [
    {
     "name": "stdout",
     "output_type": "stream",
     "text": [
      "December\n",
      "April\n"
     ]
    }
   ],
   "source": [
    "# dictionary allows store info in key value pairs\n",
    "# dictionaries use curly brackets {}\n",
    "\n",
    "monthConversions = {\n",
    "    \"Jan\": \"January\", # jan is key, January is the value\n",
    "    \"Feb\": \"February\",\n",
    "    \"Mar\": \"March\",\n",
    "    \"Apr\": \"April\",\n",
    "    \"May\": \"May\",\n",
    "    \"Jun\": \"June\",\n",
    "    \"Jul\": \"July\",\n",
    "    \"Aug\": \"August\",\n",
    "    \"Sep\": \"September\",\n",
    "    \"Oct\": \"October\",\n",
    "    \"Nov\": \"November\",\n",
    "    \"Dec\": \"December\"\n",
    "}\n",
    "\n",
    "# to access any key value:\n",
    "print (monthConversions[\"Dec\"])\n",
    "\n",
    "# another way to access key values from dictionaty:\n",
    "print (monthConversions.get(\"Apr\"))"
   ]
  }
 ],
 "metadata": {
  "kernelspec": {
   "display_name": "base",
   "language": "python",
   "name": "python3"
  },
  "language_info": {
   "codemirror_mode": {
    "name": "ipython",
    "version": 3
   },
   "file_extension": ".py",
   "mimetype": "text/x-python",
   "name": "python",
   "nbconvert_exporter": "python",
   "pygments_lexer": "ipython3",
   "version": "3.12.7"
  }
 },
 "nbformat": 4,
 "nbformat_minor": 5
}
